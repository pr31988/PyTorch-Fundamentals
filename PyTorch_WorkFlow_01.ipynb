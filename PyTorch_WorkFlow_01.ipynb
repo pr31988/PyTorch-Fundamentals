{
  "nbformat": 4,
  "nbformat_minor": 0,
  "metadata": {
    "colab": {
      "provenance": [],
      "authorship_tag": "ABX9TyOKvgEGpfnO/RPXV/7f3SxW",
      "include_colab_link": true
    },
    "kernelspec": {
      "name": "python3",
      "display_name": "Python 3"
    },
    "language_info": {
      "name": "python"
    }
  },
  "cells": [
    {
      "cell_type": "markdown",
      "metadata": {
        "id": "view-in-github",
        "colab_type": "text"
      },
      "source": [
        "<a href=\"https://colab.research.google.com/github/pr31988/PyTorch-Fundamentals/blob/main/PyTorch_WorkFlow_01.ipynb\" target=\"_parent\"><img src=\"https://colab.research.google.com/assets/colab-badge.svg\" alt=\"Open In Colab\"/></a>"
      ]
    },
    {
      "cell_type": "markdown",
      "source": [
        "#  Workflow covered:\n",
        "  1. data: (prepare & load)\n",
        "  2. Build a Model\n",
        "  3. Fitting model to data (training)\n",
        "  4. Making predictions & evaluating the model (Inference)\n",
        "  5. saving & loading the Model\n",
        "  6. Putting it all together"
      ],
      "metadata": {
        "id": "iP9kx88Qvqof"
      }
    },
    {
      "cell_type": "code",
      "source": [
        "import torch\n",
        "from torch import nn # nn contains all building blocks of pyTorch neural Networks\n",
        "import matplotlib.pyplot as plt\n",
        "\n",
        "# check torch version\n",
        "torch.__version__"
      ],
      "metadata": {
        "colab": {
          "base_uri": "https://localhost:8080/",
          "height": 36
        },
        "id": "FkaL3XW2xAYX",
        "outputId": "6d7c4047-b64e-46d3-c02e-152b697c24c7"
      },
      "execution_count": null,
      "outputs": [
        {
          "output_type": "execute_result",
          "data": {
            "text/plain": [
              "'2.5.1+cu121'"
            ],
            "application/vnd.google.colaboratory.intrinsic+json": {
              "type": "string"
            }
          },
          "metadata": {},
          "execution_count": 3
        }
      ]
    },
    {
      "cell_type": "markdown",
      "source": [
        "Machine Learning mainly Game of two parts:\n",
        "1. Turn Data into numbers\n",
        "2. build a model to learn patterns in those numbers\n",
        "\n",
        "# first example with **Linear regression** to train a model & draw pattern"
      ],
      "metadata": {
        "id": "l-ZVliseyHhe"
      }
    },
    {
      "cell_type": "code",
      "source": [
        "# y = a + b * X --> b is slope of line\n",
        "\n",
        "## create parameters\n",
        "weight = 0.4\n",
        "bias = 0.2\n",
        "\n",
        "start = 0\n",
        "end = 1\n",
        "step = 0.02\n",
        "\n",
        "X = torch.arange(start,end,step).unsqueeze(dim=1)\n",
        "y = weight * X + bias\n",
        "X[:10] , y[:10]"
      ],
      "metadata": {
        "colab": {
          "base_uri": "https://localhost:8080/"
        },
        "id": "-rqcClS10byF",
        "outputId": "66ee3d68-6f7d-4900-e957-2e4ecbe6f96d"
      },
      "execution_count": null,
      "outputs": [
        {
          "output_type": "execute_result",
          "data": {
            "text/plain": [
              "(tensor([[0.0000],\n",
              "         [0.0200],\n",
              "         [0.0400],\n",
              "         [0.0600],\n",
              "         [0.0800],\n",
              "         [0.1000],\n",
              "         [0.1200],\n",
              "         [0.1400],\n",
              "         [0.1600],\n",
              "         [0.1800]]),\n",
              " tensor([[0.2000],\n",
              "         [0.2080],\n",
              "         [0.2160],\n",
              "         [0.2240],\n",
              "         [0.2320],\n",
              "         [0.2400],\n",
              "         [0.2480],\n",
              "         [0.2560],\n",
              "         [0.2640],\n",
              "         [0.2720]]))"
            ]
          },
          "metadata": {},
          "execution_count": 4
        }
      ]
    },
    {
      "cell_type": "code",
      "source": [
        "len(X), len(y)"
      ],
      "metadata": {
        "colab": {
          "base_uri": "https://localhost:8080/"
        },
        "id": "-85SBZl82YnG",
        "outputId": "1291a3ca-8e37-4075-a693-186d54d97c36"
      },
      "execution_count": null,
      "outputs": [
        {
          "output_type": "execute_result",
          "data": {
            "text/plain": [
              "(50, 50)"
            ]
          },
          "metadata": {},
          "execution_count": 5
        }
      ]
    },
    {
      "cell_type": "markdown",
      "source": [
        "Splitting data into Training & Test sets(one of the most important concept in machine learning)"
      ],
      "metadata": {
        "id": "FDc3kOMj4RQT"
      }
    },
    {
      "cell_type": "code",
      "source": [
        "# create train/test split\n",
        "train_split = int(0.8 * len(X))\n",
        "X_train, y_train = X[:train_split], y[:train_split]\n",
        "\n",
        "X_test, y_test = X[train_split:], y[train_split:]\n",
        "len(X_train), len(y_train), len(X_test), len(y_train)"
      ],
      "metadata": {
        "colab": {
          "base_uri": "https://localhost:8080/"
        },
        "id": "5R5F8frI4gyI",
        "outputId": "4f7d13d1-c7f5-4eae-be56-0fc8637845eb"
      },
      "execution_count": null,
      "outputs": [
        {
          "output_type": "execute_result",
          "data": {
            "text/plain": [
              "(40, 40, 10, 40)"
            ]
          },
          "metadata": {},
          "execution_count": 6
        }
      ]
    },
    {
      "cell_type": "code",
      "source": [
        "def plot_prediction(train_data=X_train,\n",
        "                    train_labels=y_train,\n",
        "                    test_data=X_test,\n",
        "                    test_labels=y_test,\n",
        "                    predictions=None):\n",
        "  \"\"\"\n",
        "  plots training data, test data & compares prediction\n",
        "  \"\"\"\n",
        "\n",
        "  #plot training data in red\n",
        "  plt.scatter(train_data,train_labels, c=\"r\", label=\"Training data\")\n",
        "\n",
        "  #plot test data in green\n",
        "  plt.scatter(test_data, test_labels, c=\"g\", label=\"Test data\")\n",
        "\n",
        "  if predictions is not None:\n",
        "    # plot the predictions if any\n",
        "    plt.scatter(test_data, predictions, c=\"b\", lable=\"predictions\")\n",
        "\n",
        "  # show the legend\n",
        "  plt.legend(prop={\"size\": 15})\n"
      ],
      "metadata": {
        "id": "psqlf-nHnMz-"
      },
      "execution_count": null,
      "outputs": []
    },
    {
      "cell_type": "code",
      "source": [
        "plot_prediction();"
      ],
      "metadata": {
        "colab": {
          "base_uri": "https://localhost:8080/",
          "height": 430
        },
        "id": "2kpPVrmFpwL7",
        "outputId": "f8789a67-8118-47d4-cf34-eb667b2a3445"
      },
      "execution_count": null,
      "outputs": [
        {
          "output_type": "display_data",
          "data": {
            "text/plain": [
              "<Figure size 640x480 with 1 Axes>"
            ],
            "image/png": "[encoded data removed]"
          },
          "metadata": {}
        }
      ]
    }
  ]
}
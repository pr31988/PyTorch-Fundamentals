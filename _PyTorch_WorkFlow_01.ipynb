{
  "nbformat": 4,
  "nbformat_minor": 0,
  "metadata": {
    "colab": {
      "provenance": [],
      "gpuType": "T4",
      "authorship_tag": "ABX9TyNGtbN0J30Xr1WGKDODU11b",
      "include_colab_link": true
    },
    "kernelspec": {
      "name": "python3",
      "display_name": "Python 3"
    },
    "language_info": {
      "name": "python"
    },
    "accelerator": "GPU"
  },
  "cells": [
    {
      "cell_type": "markdown",
      "metadata": {
        "id": "view-in-github",
        "colab_type": "text"
      },
      "source": [
        "<a href=\"https://colab.research.google.com/github/pr31988/PyTorch-Fundamentals/blob/main/_PyTorch_WorkFlow_01.ipynb\" target=\"_parent\"><img src=\"https://colab.research.google.com/assets/colab-badge.svg\" alt=\"Open In Colab\"/></a>"
      ]
    },
    {
      "cell_type": "markdown",
      "source": [
        "#  Workflow covered:\n",
        "  1. data: (prepare & load)\n",
        "  2. Build a Model\n",
        "  3. Fitting model to data (training)\n",
        "  4. Making predictions & evaluating the model (Inference)\n",
        "  5. saving & loading the Model\n",
        "  6. Putting it all together"
      ],
      "metadata": {
        "id": "iP9kx88Qvqof"
      }
    },
    {
      "cell_type": "code",
      "source": [
        "import torch\n",
        "from torch import nn # nn contains all building blocks of pyTorch neural Networks\n",
        "import matplotlib.pyplot as plt\n",
        "\n",
        "# check torch version\n",
        "torch.__version__"
      ],
      "metadata": {
        "colab": {
          "base_uri": "https://localhost:8080/",
          "height": 36
        },
        "id": "FkaL3XW2xAYX",
        "outputId": "040d3d65-df4d-4555-f06b-d192aa7d145e"
      },
      "execution_count": null,
      "outputs": [
        {
          "output_type": "execute_result",
          "data": {
            "text/plain": [
              "'2.5.1+cu121'"
            ],
            "application/vnd.google.colaboratory.intrinsic+json": {
              "type": "string"
            }
          },
          "metadata": {},
          "execution_count": 1
        }
      ]
    },
    {
      "cell_type": "markdown",
      "source": [
        "Machine Learning mainly Game of two parts:\n",
        "1. Turn Data into numbers\n",
        "2. build a model to learn patterns in those numbers\n",
        "\n",
        "# first example with **Linear regression** to train a model & draw pattern"
      ],
      "metadata": {
        "id": "l-ZVliseyHhe"
      }
    },
    {
      "cell_type": "code",
      "source": [
        "# y = a + b * X --> b is slope of line\n",
        "\n",
        "## create parameters\n",
        "weight = 0.7\n",
        "bias = 0.3\n",
        "\n",
        "start = 0\n",
        "end = 1\n",
        "step = 0.02\n",
        "\n",
        "X = torch.arange(start,end,step).unsqueeze(dim=1)\n",
        "y = weight * X + bias\n",
        "X[:10] , y[:10]"
      ],
      "metadata": {
        "colab": {
          "base_uri": "https://localhost:8080/"
        },
        "id": "-rqcClS10byF",
        "outputId": "1a3ba969-81a1-4be8-f4a3-381e6acaeb32"
      },
      "execution_count": null,
      "outputs": [
        {
          "output_type": "execute_result",
          "data": {
            "text/plain": [
              "(tensor([[0.0000],\n",
              "         [0.0200],\n",
              "         [0.0400],\n",
              "         [0.0600],\n",
              "         [0.0800],\n",
              "         [0.1000],\n",
              "         [0.1200],\n",
              "         [0.1400],\n",
              "         [0.1600],\n",
              "         [0.1800]]),\n",
              " tensor([[0.3000],\n",
              "         [0.3140],\n",
              "         [0.3280],\n",
              "         [0.3420],\n",
              "         [0.3560],\n",
              "         [0.3700],\n",
              "         [0.3840],\n",
              "         [0.3980],\n",
              "         [0.4120],\n",
              "         [0.4260]]))"
            ]
          },
          "metadata": {},
          "execution_count": 2
        }
      ]
    },
    {
      "cell_type": "code",
      "source": [
        "len(X), len(y)"
      ],
      "metadata": {
        "colab": {
          "base_uri": "https://localhost:8080/"
        },
        "id": "-85SBZl82YnG",
        "outputId": "d30191b2-8aad-4d8e-80d2-57841cc1053b"
      },
      "execution_count": null,
      "outputs": [
        {
          "output_type": "execute_result",
          "data": {
            "text/plain": [
              "(50, 50)"
            ]
          },
          "metadata": {},
          "execution_count": 3
        }
      ]
    },
    {
      "cell_type": "markdown",
      "source": [
        "Splitting data into Training & Test sets(one of the most important concept in machine learning)"
      ],
      "metadata": {
        "id": "FDc3kOMj4RQT"
      }
    },
    {
      "cell_type": "code",
      "source": [
        "# create train/test split\n",
        "train_split = int(0.8 * len(X))\n",
        "X_train, y_train = X[:train_split], y[:train_split]\n",
        "\n",
        "X_test, y_test = X[train_split:], y[train_split:]\n",
        "len(X_train), len(y_train), len(X_test), len(y_test)"
      ],
      "metadata": {
        "colab": {
          "base_uri": "https://localhost:8080/"
        },
        "id": "5R5F8frI4gyI",
        "outputId": "5329a13d-069f-4f28-b489-822bb99dd2ac"
      },
      "execution_count": null,
      "outputs": [
        {
          "output_type": "execute_result",
          "data": {
            "text/plain": [
              "(40, 40, 10, 10)"
            ]
          },
          "metadata": {},
          "execution_count": 4
        }
      ]
    },
    {
      "cell_type": "code",
      "source": [
        "def plot_prediction(train_data=X_train,\n",
        "                    train_labels=y_train,\n",
        "                    test_data=X_test,\n",
        "                    test_labels=y_test,\n",
        "                    predictions=None):\n",
        "  \"\"\"\n",
        "  plots training data, test data & compares prediction\n",
        "  \"\"\"\n",
        "\n",
        "  #plot training data in red\n",
        "  plt.scatter(train_data,train_labels, s=4, c=\"r\", label=\"Training data\")\n",
        "\n",
        "  #plot test data in green\n",
        "  plt.scatter(test_data, test_labels, s=4, c=\"g\", label=\"Test data\")\n",
        "\n",
        "  if predictions is not None:\n",
        "    # plot the predictions if any\n",
        "    plt.scatter(test_data, predictions, s=6, c=\"b\", label=\"predictions\")\n",
        "\n",
        "  # show the legend\n",
        "  plt.legend(prop={\"size\": 15})\n"
      ],
      "metadata": {
        "id": "psqlf-nHnMz-"
      },
      "execution_count": 6,
      "outputs": []
    },
    {
      "cell_type": "code",
      "source": [
        "plot_prediction();"
      ],
      "metadata": {
        "colab": {
          "base_uri": "https://localhost:8080/",
          "height": 430
        },
        "id": "2kpPVrmFpwL7",
        "outputId": "5c011efd-032b-4842-cf1a-7752a02b0a4c"
      },
      "execution_count": null,
      "outputs": [
        {
          "output_type": "display_data",
          "data": {
            "text/plain": [
              "<Figure size 640x480 with 1 Axes>"
            ],
            "image/png": "[encoded data removed]"
          },
          "metadata": {}
        }
      ]
    },
    {
      "cell_type": "markdown",
      "source": [
        "create a Model using training data, Model will determine weight & bias values\n",
        "\n",
        "what our Model does:\n",
        "1. start with random values (weight & bias)\n",
        "2. Look at training data and adjust these random values(or get closer to) ideal values (the actual weight & bias we used to create training & test data)\n",
        "\n",
        "to do so it uses 2 main algorithms:\n",
        "1. Gradient descent   - https://www.youtube.com/watch?v=IHZwWFHWa-w\n",
        "2. Backpropagation - https://www.youtube.com/watch?v=Ilg3gGewQ5U"
      ],
      "metadata": {
        "id": "qc3DDaR7Ec_M"
      }
    },
    {
      "cell_type": "code",
      "source": [
        "from torch import nn\n",
        "\n",
        "# create a linear Regression Model class\n",
        "class LinearRegressionModel(nn.Module):  # <-- almost everything in pyTorch is inheritted from nn.Module\n",
        "  def __init__(self):\n",
        "    super().__init__()\n",
        "    self.weights = nn.Parameter(torch.randn(1,      # --> start with a random weight and try to adjust it to ideal weight\n",
        "                                            requires_grad=True,\n",
        "                                            dtype=torch.float32))\n",
        "\n",
        "    self.bias = nn.Parameter(torch.randn(1,         # --> start with a random bias and try to adjust it to ideal bias\n",
        "                                        requires_grad=True,\n",
        "                                        dtype=torch.float32))\n",
        "\n",
        "  # forward method to define the computation in the module\n",
        "  def forward(self, x: torch.Tensor) -> torch.Tensor:   # <-- \"x\" is the input data\n",
        "      return self.weights * x + self.bias # linear regression formula"
      ],
      "metadata": {
        "id": "zVHoB3GmE9sB"
      },
      "execution_count": null,
      "outputs": []
    },
    {
      "cell_type": "markdown",
      "source": [
        "  PyTorch essentials:\n",
        "  * torch.nn   -   provides all building blocks [its a tool set]\n",
        "  * torch.nn.Parameter - const values our Model should learn & predict\n",
        "  * torch.nn.Module  - base class\n",
        "  * torch.optim - optimize parameters to get actuals\n",
        "  * def forward - takes data from nn.Module and defines what happens in {forward} computation"
      ],
      "metadata": {
        "id": "njJRCPOz4-qR"
      }
    },
    {
      "cell_type": "code",
      "source": [
        "torch.manual_seed(42)\n",
        "\n",
        "model_0 = LinearRegressionModel()  # --> create a random instance of the class (this is subclass on nn.Module)\n",
        "\n",
        "list(model_0.parameters())"
      ],
      "metadata": {
        "colab": {
          "base_uri": "https://localhost:8080/"
        },
        "id": "etbVSKP2_Q8V",
        "outputId": "0115f16f-5e50-416b-b35c-96ac8c281235"
      },
      "execution_count": null,
      "outputs": [
        {
          "output_type": "execute_result",
          "data": {
            "text/plain": [
              "[Parameter containing:\n",
              " tensor([0.3367], requires_grad=True),\n",
              " Parameter containing:\n",
              " tensor([0.1288], requires_grad=True)]"
            ]
          },
          "metadata": {},
          "execution_count": 8
        }
      ]
    },
    {
      "cell_type": "code",
      "source": [
        "# list named parameters\n",
        "model_0.state_dict()"
      ],
      "metadata": {
        "colab": {
          "base_uri": "https://localhost:8080/"
        },
        "id": "kvbxsVyw_qpm",
        "outputId": "f7069266-b22f-406f-c6bf-c6304e1cabe5"
      },
      "execution_count": null,
      "outputs": [
        {
          "output_type": "execute_result",
          "data": {
            "text/plain": [
              "OrderedDict([('weights', tensor([0.3367])), ('bias', tensor([0.1288]))])"
            ]
          },
          "metadata": {},
          "execution_count": 9
        }
      ]
    },
    {
      "cell_type": "markdown",
      "source": [
        "# Making prediction with torch.inference_mode()\n",
        "to check our Models prediction power, lets see how it predicts y_test based on x_test\n",
        "\n",
        " --> when we pass data to the Model its going to run it through forward method\n"
      ],
      "metadata": {
        "id": "BGX6YD_yBwWw"
      }
    },
    {
      "cell_type": "code",
      "source": [
        "# before using prediction power of our Model\n",
        "y_test"
      ],
      "metadata": {
        "colab": {
          "base_uri": "https://localhost:8080/"
        },
        "id": "qWuaDwrICyDU",
        "outputId": "eecbfdf2-046d-47ca-fdc0-47734be2c684"
      },
      "execution_count": null,
      "outputs": [
        {
          "output_type": "execute_result",
          "data": {
            "text/plain": [
              "tensor([[0.8600],\n",
              "        [0.8740],\n",
              "        [0.8880],\n",
              "        [0.9020],\n",
              "        [0.9160],\n",
              "        [0.9300],\n",
              "        [0.9440],\n",
              "        [0.9580],\n",
              "        [0.9720],\n",
              "        [0.9860]])"
            ]
          },
          "metadata": {},
          "execution_count": 10
        }
      ]
    },
    {
      "cell_type": "code",
      "source": [
        "# with inference method, model is solely predicting values and not training the model. It is not keeping track of the things but just deriving the infenrence\n",
        "# long story short ***Code runs faster***\n",
        "# the older version is torch.no_grad()\n",
        "\n",
        "with torch.inference_mode():\n",
        "# with torch.no_grad():\n",
        "  y_preds = model_0(X_test)\n",
        "y_preds"
      ],
      "metadata": {
        "colab": {
          "base_uri": "https://localhost:8080/"
        },
        "id": "98h5uwbbBtb9",
        "outputId": "a0b09cd8-98d1-4d40-b228-07ee696cc71e"
      },
      "execution_count": null,
      "outputs": [
        {
          "output_type": "execute_result",
          "data": {
            "text/plain": [
              "tensor([[0.3982],\n",
              "        [0.4049],\n",
              "        [0.4116],\n",
              "        [0.4184],\n",
              "        [0.4251],\n",
              "        [0.4318],\n",
              "        [0.4386],\n",
              "        [0.4453],\n",
              "        [0.4520],\n",
              "        [0.4588]])"
            ]
          },
          "metadata": {},
          "execution_count": 13
        }
      ]
    },
    {
      "cell_type": "code",
      "source": [
        "plot_prediction(predictions=y_preds)"
      ],
      "metadata": {
        "colab": {
          "base_uri": "https://localhost:8080/",
          "height": 430
        },
        "id": "N2QFR9fZESd3",
        "outputId": "005033a1-c8b1-4e85-caee-1491522aa06b"
      },
      "execution_count": null,
      "outputs": [
        {
          "output_type": "display_data",
          "data": {
            "text/plain": [
              "<Figure size 640x480 with 1 Axes>"
            ],
            "image/png": "[encoded data removed]"
          },
          "metadata": {}
        }
      ]
    },
    {
      "cell_type": "markdown",
      "source": [
        "Train Model:\n",
        "\n",
        "The whole idea of training the model, is moving from poorly predicted parameter values towards ideal parameter values\n",
        "\n",
        "if we can meansure how poor the prediction is, it will be posible to adjust parameters to actual values\n",
        "\n",
        "One way is to use Loss Function\n",
        "\n",
        "Things we need to train:\n",
        "*  **Loss Function**: The function to measure how wrong the model predictions are compared to the ideal output\n",
        "*  **Optimizer** : Takes in account the loss of the model and adjust parameters to lower the loss.\n",
        "\n",
        "for PyTorch we need:\n",
        "*   **Training Loop**\n",
        "*   **Testing Loop**"
      ],
      "metadata": {
        "id": "f2exMWh06uor"
      }
    },
    {
      "cell_type": "code",
      "source": [
        "# loss function\n",
        "loss_fn = nn.L1Loss()\n",
        "\n",
        "# optimizer SGD (Scholistic Gradient Descent)\n",
        "optim_fn = torch.optim.SGD(params=model_0.parameters(),\n",
        "                           lr=0.01) # learning rate --> its a hyperparameter set manually, rate at which the loss"
      ],
      "metadata": {
        "id": "jzjYShAr-W3E"
      },
      "execution_count": null,
      "outputs": []
    },
    {
      "cell_type": "markdown",
      "source": [
        "Building **training loop** (testing loop) in PyTorch :\n",
        "\n",
        "we need:\n",
        "\n",
        "0. Loop thorugh data\n",
        "1. Forward pass (involves data passing through our model's foraward () function) to make prediction on data - also called forward propagation\n",
        "2. calculate the loss (compare forward pass predictions to ground truth labels)\n",
        "3. Optimzer zero grad\n",
        "4. Loss backward - move backwards throght the network to calculate gradients for each of the parameters of our model with respect to the loss (**back propagation**)\n",
        "5. Optimizer step - use the optimizer to adjust the parameters to try and lower the loss (**Gradient Descent**)"
      ],
      "metadata": {
        "id": "bVme8cL_CHsi"
      }
    },
    {
      "cell_type": "code",
      "source": [
        "torch.manual_seed(42)\n",
        "\n",
        "epochs = 100  # its a hyper parameter\n",
        "\n",
        "# create empty array to track loss values\n",
        "train_loss_values = []\n",
        "test_loss_values = []\n",
        "epoch_count = []\n",
        "\n",
        "### Training Loop\n",
        "# 0. loop through data\n",
        "for epoch in range(epochs):\n",
        "\n",
        "# set the model to training mode\n",
        "  model_0.train()\n",
        "\n",
        "# 1. forward Pass\n",
        "  y_preds = model_0(X_train)\n",
        "\n",
        "#2. calculate the loss function\n",
        "  loss = loss_fn(y_preds, y_train)\n",
        "\n",
        "# 3. optimizer zero grad\n",
        "  optim_fn.zero_grad()\n",
        "\n",
        "# 4. perform backward propagation on the loss with respect to the parameters in the model (calculate gradients of each parameter)\n",
        "  loss.backward()\n",
        "\n",
        "#5. optimizer step (perform gradient descent)\n",
        "  optim_fn.step() # step the optimizer, to update the model's parameters with respect to the gradients calculated by step(4)\n",
        "\n",
        "### testing Loop\n",
        "\n",
        "# set model to testing mode\n",
        "  model_0.eval()   # turns off settings in the model not needed for evaluation/testing (dropout/batch norm layer)\n",
        "\n",
        "  with torch.inference_mode():  # turn off gradient tracking and some more settings\n",
        "\n",
        "  # forward pass\n",
        "    test_pred = model_0(X_test)\n",
        "\n",
        "  # calculate the loss\n",
        "    test_loss = loss_fn(test_pred, y_test)\n",
        "\n",
        "  # print the log\n",
        "    if epoch % 10 == 0:\n",
        "      epoch_count.append(epoch)\n",
        "      train_loss_values.append(loss.detach().numpy())\n",
        "      test_loss_values.append(test_loss.detach().numpy())\n",
        "      print(f'epoch: {epoch} MAE train-loss: {loss} MAE test-loss: {test_loss}')\n",
        "      print(model_0.state_dict())\n"
      ],
      "metadata": {
        "colab": {
          "base_uri": "https://localhost:8080/"
        },
        "id": "rNBvnyKlF49i",
        "outputId": "752b000d-8984-44d2-919b-9355e666dc3e"
      },
      "execution_count": null,
      "outputs": [
        {
          "output_type": "stream",
          "name": "stdout",
          "text": [
            "epoch: 0 MAE train-loss: 0.024458957836031914 MAE test-loss: 0.05646304413676262\n",
            "OrderedDict([('weights', tensor([0.5800])), ('bias', tensor([0.3503]))])\n",
            "epoch: 10 MAE train-loss: 0.021020207554101944 MAE test-loss: 0.04819049686193466\n",
            "OrderedDict([('weights', tensor([0.5972])), ('bias', tensor([0.3433]))])\n",
            "epoch: 20 MAE train-loss: 0.01758546568453312 MAE test-loss: 0.04060482233762741\n",
            "OrderedDict([('weights', tensor([0.6141])), ('bias', tensor([0.3358]))])\n",
            "epoch: 30 MAE train-loss: 0.014155393466353416 MAE test-loss: 0.03233227878808975\n",
            "OrderedDict([('weights', tensor([0.6313])), ('bias', tensor([0.3288]))])\n",
            "epoch: 40 MAE train-loss: 0.010716589167714119 MAE test-loss: 0.024059748277068138\n",
            "OrderedDict([('weights', tensor([0.6485])), ('bias', tensor([0.3218]))])\n",
            "epoch: 50 MAE train-loss: 0.0072835334576666355 MAE test-loss: 0.016474086791276932\n",
            "OrderedDict([('weights', tensor([0.6654])), ('bias', tensor([0.3143]))])\n",
            "epoch: 60 MAE train-loss: 0.0038517764769494534 MAE test-loss: 0.008201557211577892\n",
            "OrderedDict([('weights', tensor([0.6826])), ('bias', tensor([0.3073]))])\n",
            "epoch: 70 MAE train-loss: 0.008932482451200485 MAE test-loss: 0.005023092031478882\n",
            "OrderedDict([('weights', tensor([0.6951])), ('bias', tensor([0.2993]))])\n",
            "epoch: 80 MAE train-loss: 0.008932482451200485 MAE test-loss: 0.005023092031478882\n",
            "OrderedDict([('weights', tensor([0.6951])), ('bias', tensor([0.2993]))])\n",
            "epoch: 90 MAE train-loss: 0.008932482451200485 MAE test-loss: 0.005023092031478882\n",
            "OrderedDict([('weights', tensor([0.6951])), ('bias', tensor([0.2993]))])\n"
          ]
        }
      ]
    },
    {
      "cell_type": "code",
      "source": [
        "# plot the loss curves\n",
        "plt.plot(epoch_count, train_loss_values, label=\"train loss\")\n",
        "plt.plot(epoch_count, test_loss_values, label=\"test loss\")\n",
        "plt.title(\"training & test loss curve\")\n",
        "plt.ylabel(\"Loss\")\n",
        "plt.xlabel(\"Epochs\")\n",
        "plt.legend();"
      ],
      "metadata": {
        "colab": {
          "base_uri": "https://localhost:8080/",
          "height": 472
        },
        "id": "DTYjXBCMTuYf",
        "outputId": "644215d4-f4c6-4220-c392-ecbd5e758a25"
      },
      "execution_count": null,
      "outputs": [
        {
          "output_type": "display_data",
          "data": {
            "text/plain": [
              "<Figure size 640x480 with 1 Axes>"
            ],
            "image/png": "[encoded data removed]"
          },
          "metadata": {}
        }
      ]
    },
    {
      "cell_type": "code",
      "source": [
        "plot_prediction(predictions=test_pred)  # after adding testing loop"
      ],
      "metadata": {
        "colab": {
          "base_uri": "https://localhost:8080/",
          "height": 430
        },
        "id": "8-9ps_mggZir",
        "outputId": "9b3cfa97-f628-4ca8-d55f-a041d395da80"
      },
      "execution_count": null,
      "outputs": [
        {
          "output_type": "display_data",
          "data": {
            "text/plain": [
              "<Figure size 640x480 with 1 Axes>"
            ],
            "image/png": "[encoded data removed]"
          },
          "metadata": {}
        }
      ]
    },
    {
      "cell_type": "markdown",
      "source": [
        "**Saving & loading Pytorch Models**\n",
        "\n",
        " save pyToch object with '.pt/ .pth' extention to diskFile. It is recommended to save state_dict instead of entire pyToch Model. **state_dict** - maps each layer to its parameter tensor.\n",
        "\n",
        "pyTorch Methods:\n",
        "\n",
        "torch.save - Saves a serialized object to disk using Python's pickle utility.\n",
        "\n",
        "torch.load - Use unpickling features to deserialize and load pickled Python object files\n",
        "\n",
        "torch.nn.Module.load_state_dict - loads model's parameter dictionary using saved state_dict() object"
      ],
      "metadata": {
        "id": "WVYFj33G4_r6"
      }
    },
    {
      "cell_type": "code",
      "source": [
        "from pathlib import Path\n",
        "\n",
        "# create Models directory\n",
        "MODEL_PATH = Path(\"models\")\n",
        "MODEL_PATH.mkdir(parents=True, exist_ok=True)\n",
        "\n",
        "#Create Model save path\n",
        "MODEL_NAME = \"pytorch_workflow_model_0.pt\"\n",
        "MODEL_SAVE_PATH = MODEL_PATH/ MODEL_NAME\n",
        "\n",
        "# save the model's state_dict\n",
        "print(f'saving to: {MODEL_SAVE_PATH}')\n",
        "torch.save(model_0.state_dict(),  # only saves the models learned parameters\n",
        "           f=MODEL_SAVE_PATH)"
      ],
      "metadata": {
        "colab": {
          "base_uri": "https://localhost:8080/"
        },
        "id": "BJiktl0hDJM2",
        "outputId": "5fc43bba-0e5d-430b-b209-121ffb7d4ada"
      },
      "execution_count": null,
      "outputs": [
        {
          "output_type": "stream",
          "name": "stdout",
          "text": [
            "saving to: models/pytorch_workflow_model_0.pt\n"
          ]
        }
      ]
    },
    {
      "cell_type": "markdown",
      "source": [
        "##  Loding PyTorch Model\n",
        "using saved state_dict() parameters, we will create a new instance of our model"
      ],
      "metadata": {
        "id": "LLWxCRENL3NH"
      }
    },
    {
      "cell_type": "code",
      "source": [
        "loaded_model_0 = LinearRegressionModel()   # create new instance of the class\n",
        "\n",
        "loaded_model_0.load_state_dict(torch.load(f=MODEL_SAVE_PATH))  # load saved state_dict of model_0"
      ],
      "metadata": {
        "colab": {
          "base_uri": "https://localhost:8080/"
        },
        "id": "kW2A4EyzMqFu",
        "outputId": "bde25fe5-9e5d-489c-edf0-6843b9920a81"
      },
      "execution_count": null,
      "outputs": [
        {
          "output_type": "stream",
          "name": "stderr",
          "text": [
            "<ipython-input-32-e86b9a66f60c>:3: FutureWarning: You are using `torch.load` with `weights_only=False` (the current default value), which uses the default pickle module implicitly. It is possible to construct malicious pickle data which will execute arbitrary code during unpickling (See https://github.com/pytorch/pytorch/blob/main/SECURITY.md#untrusted-models for more details). In a future release, the default value for `weights_only` will be flipped to `True`. This limits the functions that could be executed during unpickling. Arbitrary objects will no longer be allowed to be loaded via this mode unless they are explicitly allowlisted by the user via `torch.serialization.add_safe_globals`. We recommend you start setting `weights_only=True` for any use case where you don't have full control of the loaded file. Please open an issue on GitHub for any issues related to this experimental feature.\n",
            "  loaded_model_0.load_state_dict(torch.load(f=MODEL_SAVE_PATH))\n"
          ]
        },
        {
          "output_type": "execute_result",
          "data": {
            "text/plain": [
              "<All keys matched successfully>"
            ]
          },
          "metadata": {},
          "execution_count": 32
        }
      ]
    },
    {
      "cell_type": "code",
      "source": [
        "loaded_model_0.state_dict()"
      ],
      "metadata": {
        "colab": {
          "base_uri": "https://localhost:8080/"
        },
        "id": "1K1nH5N2NZze",
        "outputId": "dcd48ea9-8203-4794-930a-6911396748c7"
      },
      "execution_count": null,
      "outputs": [
        {
          "output_type": "execute_result",
          "data": {
            "text/plain": [
              "OrderedDict([('weights', tensor([0.6990])), ('bias', tensor([0.3093]))])"
            ]
          },
          "metadata": {},
          "execution_count": 33
        }
      ]
    },
    {
      "cell_type": "code",
      "source": [
        "loaded_model_0.eval()\n",
        "\n",
        "with torch.inference_mode():\n",
        "  loaded_model_preds = loaded_model_0(X_test)\n",
        "\n",
        "loaded_model_preds"
      ],
      "metadata": {
        "colab": {
          "base_uri": "https://localhost:8080/"
        },
        "id": "NX1kYhjJNi9O",
        "outputId": "aaa9bf58-077c-4342-cebf-a8ed428f70f6"
      },
      "execution_count": null,
      "outputs": [
        {
          "output_type": "execute_result",
          "data": {
            "text/plain": [
              "tensor([[0.8685],\n",
              "        [0.8825],\n",
              "        [0.8965],\n",
              "        [0.9105],\n",
              "        [0.9245],\n",
              "        [0.9384],\n",
              "        [0.9524],\n",
              "        [0.9664],\n",
              "        [0.9804],\n",
              "        [0.9944]])"
            ]
          },
          "metadata": {},
          "execution_count": 36
        }
      ]
    },
    {
      "cell_type": "code",
      "source": [
        "model_0.eval()    # to comapre loaded model preds with original model preds\n",
        "\n",
        "with torch.inference_mode():\n",
        "  y_preds = model_0(X_test)\n",
        "\n",
        "y_preds"
      ],
      "metadata": {
        "colab": {
          "base_uri": "https://localhost:8080/"
        },
        "id": "LYS3WoxsOQsW",
        "outputId": "234f65b5-7270-4f00-e989-a1b4f7906623"
      },
      "execution_count": null,
      "outputs": [
        {
          "output_type": "execute_result",
          "data": {
            "text/plain": [
              "tensor([[0.8685],\n",
              "        [0.8825],\n",
              "        [0.8965],\n",
              "        [0.9105],\n",
              "        [0.9245],\n",
              "        [0.9384],\n",
              "        [0.9524],\n",
              "        [0.9664],\n",
              "        [0.9804],\n",
              "        [0.9944]])"
            ]
          },
          "metadata": {},
          "execution_count": 38
        }
      ]
    },
    {
      "cell_type": "markdown",
      "source": [
        "# **Putting it Together (Revise)**"
      ],
      "metadata": {
        "id": "DIPbX2eGfO9H"
      }
    },
    {
      "cell_type": "code",
      "source": [
        "import torch\n",
        "from torch import nn\n",
        "import matplotlib.pyplot as plt\n",
        "\n",
        "torch.__version__"
      ],
      "metadata": {
        "colab": {
          "base_uri": "https://localhost:8080/",
          "height": 36
        },
        "id": "5V25zsBRfDa4",
        "outputId": "cbfd7045-1864-40d8-8b32-ce91401a9713"
      },
      "execution_count": 1,
      "outputs": [
        {
          "output_type": "execute_result",
          "data": {
            "text/plain": [
              "'2.5.1+cu121'"
            ],
            "application/vnd.google.colaboratory.intrinsic+json": {
              "type": "string"
            }
          },
          "metadata": {},
          "execution_count": 1
        }
      ]
    },
    {
      "cell_type": "code",
      "source": [
        "# setup device agnostic code\n",
        "device = \"cuda\" if torch.cuda.is_available() else \"cpu\"\n",
        "print(f'using device : {device}')"
      ],
      "metadata": {
        "colab": {
          "base_uri": "https://localhost:8080/"
        },
        "id": "BvgplvWjgCKQ",
        "outputId": "dc9e3f8c-4f69-4c35-e7da-a8d1d9dbaf5b"
      },
      "execution_count": 2,
      "outputs": [
        {
          "output_type": "stream",
          "name": "stdout",
          "text": [
            "using device : cuda\n"
          ]
        }
      ]
    },
    {
      "cell_type": "code",
      "source": [
        "weight = 0.8\n",
        "bias = 0.4\n",
        "\n",
        "start = 0\n",
        "end = 1\n",
        "step = 0.02\n",
        "\n",
        "X = torch.arange(start, end, step).unsqueeze(dim=1)\n",
        "y = weight * X + bias\n",
        "X[:10] , y[:10]"
      ],
      "metadata": {
        "colab": {
          "base_uri": "https://localhost:8080/"
        },
        "id": "NedPBxMwhUt9",
        "outputId": "607df00e-3f1f-4094-ea77-7ed6d546cbae"
      },
      "execution_count": 3,
      "outputs": [
        {
          "output_type": "execute_result",
          "data": {
            "text/plain": [
              "(tensor([[0.0000],\n",
              "         [0.0200],\n",
              "         [0.0400],\n",
              "         [0.0600],\n",
              "         [0.0800],\n",
              "         [0.1000],\n",
              "         [0.1200],\n",
              "         [0.1400],\n",
              "         [0.1600],\n",
              "         [0.1800]]),\n",
              " tensor([[0.4000],\n",
              "         [0.4160],\n",
              "         [0.4320],\n",
              "         [0.4480],\n",
              "         [0.4640],\n",
              "         [0.4800],\n",
              "         [0.4960],\n",
              "         [0.5120],\n",
              "         [0.5280],\n",
              "         [0.5440]]))"
            ]
          },
          "metadata": {},
          "execution_count": 3
        }
      ]
    },
    {
      "cell_type": "code",
      "source": [
        "train_split = int(0.8 * len(X))\n",
        "X_train, y_train = X[:train_split], y[:train_split]\n",
        "X_test, y_test = X[train_split:], y[train_split:]\n",
        "len(X_train), len(X_test), len(y_train), len(y_test)"
      ],
      "metadata": {
        "colab": {
          "base_uri": "https://localhost:8080/"
        },
        "id": "HSqbSZIKjcf8",
        "outputId": "e5bd43e4-f711-4e11-aa17-51925fcff484"
      },
      "execution_count": 4,
      "outputs": [
        {
          "output_type": "execute_result",
          "data": {
            "text/plain": [
              "(40, 10, 40, 10)"
            ]
          },
          "metadata": {},
          "execution_count": 4
        }
      ]
    },
    {
      "cell_type": "code",
      "source": [
        "plot_prediction(X_train, y_train, X_test, y_test)"
      ],
      "metadata": {
        "colab": {
          "base_uri": "https://localhost:8080/",
          "height": 430
        },
        "id": "ehnJlj8MlIlF",
        "outputId": "08cc8272-f2ef-4923-dc5a-3d5e0a5f819f"
      },
      "execution_count": 7,
      "outputs": [
        {
          "output_type": "display_data",
          "data": {
            "text/plain": [
              "<Figure size 640x480 with 1 Axes>"
            ],
            "image/png": "[encoded data removed]"
          },
          "metadata": {}
        }
      ]
    },
    {
      "cell_type": "code",
      "source": [
        "\n",
        "class LRModel(nn.Module):\n",
        "  def __init__(self):\n",
        "    super().__init__()\n",
        "\n",
        "   # use nn.Linear() for creating model parameters\n",
        "    self.linear_layer = nn.Linear(in_features=1,\n",
        "                                  out_features=1)\n",
        "\n",
        "  def forward(self, x: torch.Tensor) -> torch.Tensor:\n",
        "    return self.linear_layer(x)\n",
        "\n",
        "# set the manual seed\n",
        "torch.manual_seed(42)\n",
        "model_l = LRModel()\n",
        "model_l, model_l.state_dict()"
      ],
      "metadata": {
        "colab": {
          "base_uri": "https://localhost:8080/"
        },
        "id": "NyMA-YSZ-aKb",
        "outputId": "0fa000f9-c22d-44f9-8d19-eae5e8371f04"
      },
      "execution_count": 9,
      "outputs": [
        {
          "output_type": "execute_result",
          "data": {
            "text/plain": [
              "(LRModel(\n",
              "   (linear_layer): Linear(in_features=1, out_features=1, bias=True)\n",
              " ),\n",
              " OrderedDict([('linear_layer.weight', tensor([[0.7645]])),\n",
              "              ('linear_layer.bias', tensor([0.8300]))]))"
            ]
          },
          "metadata": {},
          "execution_count": 9
        }
      ]
    },
    {
      "cell_type": "code",
      "source": [
        "X_train[:5], y_train[:5]"
      ],
      "metadata": {
        "colab": {
          "base_uri": "https://localhost:8080/"
        },
        "id": "a-pjCv2zJQAH",
        "outputId": "e7262692-dd3b-4ef5-a6cf-81174b4e8f3f"
      },
      "execution_count": 10,
      "outputs": [
        {
          "output_type": "execute_result",
          "data": {
            "text/plain": [
              "(tensor([[0.0000],\n",
              "         [0.0200],\n",
              "         [0.0400],\n",
              "         [0.0600],\n",
              "         [0.0800]]),\n",
              " tensor([[0.4000],\n",
              "         [0.4160],\n",
              "         [0.4320],\n",
              "         [0.4480],\n",
              "         [0.4640]]))"
            ]
          },
          "metadata": {},
          "execution_count": 10
        }
      ]
    },
    {
      "cell_type": "code",
      "source": [
        "# check the model current device\n",
        "next(model_l.parameters()).device"
      ],
      "metadata": {
        "colab": {
          "base_uri": "https://localhost:8080/"
        },
        "id": "CKTmqbHsJb9z",
        "outputId": "3cfd3ced-a4e2-4a81-c9e1-af234b9b6b8b"
      },
      "execution_count": 11,
      "outputs": [
        {
          "output_type": "execute_result",
          "data": {
            "text/plain": [
              "device(type='cpu')"
            ]
          },
          "metadata": {},
          "execution_count": 11
        }
      ]
    },
    {
      "cell_type": "code",
      "source": [
        "# set the model to use the target device\n",
        "model_l.to(device)\n",
        "next(model_l.parameters()).device"
      ],
      "metadata": {
        "colab": {
          "base_uri": "https://localhost:8080/"
        },
        "id": "QOA8kRpwJzsB",
        "outputId": "79a88c89-26ab-4dbe-b03b-85a11b47f225"
      },
      "execution_count": 12,
      "outputs": [
        {
          "output_type": "execute_result",
          "data": {
            "text/plain": [
              "device(type='cuda', index=0)"
            ]
          },
          "metadata": {},
          "execution_count": 12
        }
      ]
    },
    {
      "cell_type": "code",
      "source": [
        "# set up loss function\n",
        "loss_fn = nn.L1Loss()\n",
        "\n",
        "optimizer = torch.optim.SGD(params= model_l.parameters(),\n",
        "                            lr=0.001)"
      ],
      "metadata": {
        "id": "EzJ1NvRfKTOb"
      },
      "execution_count": 15,
      "outputs": []
    },
    {
      "cell_type": "code",
      "source": [
        "torch.manual_seed(42)\n",
        "\n",
        "epochs = 200\n",
        "\n",
        "# put data on the target device\n",
        "X_train = X_train.to(device)\n",
        "y_train = y_train.to(device)\n",
        "X_test = X_test.to(device)\n",
        "y_test = y_test.to(device)\n",
        "\n",
        "for epoch in range(epochs):\n",
        " ## training  loop\n",
        "  model_l.train()\n",
        "\n",
        "  y_predict = model_l(X_train)\n",
        "\n",
        "  loss = loss_fn(y_predict, y_train)\n",
        "\n",
        "  optimizer.zero_grad()\n",
        "\n",
        "  loss.backward()\n",
        "\n",
        "  optimizer.step()\n",
        "\n",
        "## testing  loop\n",
        "  model_l.eval()\n",
        "\n",
        "  with torch.inference_mode():\n",
        "    test_predict = model_l(X_test)\n",
        "\n",
        "    test_loss = loss_fn(test_predict, y_test)\n",
        "\n",
        "  if epoch % 10 == 0:\n",
        "    print(f'epoch: {epoch} | trainning loss: {loss} | test loss: {test_loss}')"
      ],
      "metadata": {
        "colab": {
          "base_uri": "https://localhost:8080/"
        },
        "id": "CWRmMpQ3K1hc",
        "outputId": "7592cba6-c8df-42c4-e6d1-3734bfe4d296"
      },
      "execution_count": 16,
      "outputs": [
        {
          "output_type": "stream",
          "name": "stdout",
          "text": [
            "epoch: 0 | trainning loss: 0.06271307915449142 | test loss: 0.12254667282104492\n",
            "epoch: 10 | trainning loss: 0.051192235201597214 | test loss: 0.1090758666396141\n",
            "epoch: 20 | trainning loss: 0.040377046912908554 | test loss: 0.09610942751169205\n",
            "epoch: 30 | trainning loss: 0.032735466957092285 | test loss: 0.08496329933404922\n",
            "epoch: 40 | trainning loss: 0.027593379840254784 | test loss: 0.07568798214197159\n",
            "epoch: 50 | trainning loss: 0.024193426594138145 | test loss: 0.06809061020612717\n",
            "epoch: 60 | trainning loss: 0.02195104770362377 | test loss: 0.06187736615538597\n",
            "epoch: 70 | trainning loss: 0.020443657413125038 | test loss: 0.05684247240424156\n",
            "epoch: 80 | trainning loss: 0.019424034282565117 | test loss: 0.05276073142886162\n",
            "epoch: 90 | trainning loss: 0.018683310598134995 | test loss: 0.04945627599954605\n",
            "epoch: 100 | trainning loss: 0.01811881922185421 | test loss: 0.04680922254920006\n",
            "epoch: 110 | trainning loss: 0.017639676108956337 | test loss: 0.04456094652414322\n",
            "epoch: 120 | trainning loss: 0.017239727079868317 | test loss: 0.042781174182891846\n",
            "epoch: 130 | trainning loss: 0.016843685880303383 | test loss: 0.041069187223911285\n",
            "epoch: 140 | trainning loss: 0.016494670882821083 | test loss: 0.039967216551303864\n",
            "epoch: 150 | trainning loss: 0.016145655885338783 | test loss: 0.03886524587869644\n",
            "epoch: 160 | trainning loss: 0.015796640887856483 | test loss: 0.03776327520608902\n",
            "epoch: 170 | trainning loss: 0.015447625890374184 | test loss: 0.0366613045334816\n",
            "epoch: 180 | trainning loss: 0.015098610892891884 | test loss: 0.035559333860874176\n",
            "epoch: 190 | trainning loss: 0.014749595895409584 | test loss: 0.034457363188266754\n"
          ]
        }
      ]
    },
    {
      "cell_type": "code",
      "source": [
        "model_l.state_dict()"
      ],
      "metadata": {
        "colab": {
          "base_uri": "https://localhost:8080/"
        },
        "id": "CB4IW7RyN3jq",
        "outputId": "df82d032-aeb9-4a89-ef3d-37e138d16bed"
      },
      "execution_count": 17,
      "outputs": [
        {
          "output_type": "execute_result",
          "data": {
            "text/plain": [
              "OrderedDict([('linear_layer.weight', tensor([[0.7283]], device='cuda:0')),\n",
              "             ('linear_layer.bias', tensor([0.4301], device='cuda:0'))])"
            ]
          },
          "metadata": {},
          "execution_count": 17
        }
      ]
    },
    {
      "cell_type": "code",
      "source": [
        "model_l.eval()\n",
        "\n",
        "with torch.inference_mode():\n",
        "  y_predict_test = model_l(X_test)\n",
        "\n",
        "plot_prediction(predictions=y_predict_test.cpu())"
      ],
      "metadata": {
        "colab": {
          "base_uri": "https://localhost:8080/",
          "height": 430
        },
        "id": "TMJ1aIVDOSoJ",
        "outputId": "3007ab04-7f73-42fb-ff52-66ac3b420aa2"
      },
      "execution_count": 19,
      "outputs": [
        {
          "output_type": "display_data",
          "data": {
            "text/plain": [
              "<Figure size 640x480 with 1 Axes>"
            ],
            "image/png": "[encoded data removed]"
          },
          "metadata": {}
        }
      ]
    }
  ]
}
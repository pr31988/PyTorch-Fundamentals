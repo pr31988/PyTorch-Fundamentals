{
  "nbformat": 4,
  "nbformat_minor": 0,
  "metadata": {
    "colab": {
      "provenance": [],
      "authorship_tag": "ABX9TyP38SSuXQN3X4CD/+fUNVq7",
      "include_colab_link": true
    },
    "kernelspec": {
      "name": "python3",
      "display_name": "Python 3"
    },
    "language_info": {
      "name": "python"
    }
  },
  "cells": [
    {
      "cell_type": "markdown",
      "metadata": {
        "id": "view-in-github",
        "colab_type": "text"
      },
      "source": [
        "<a href=\"https://colab.research.google.com/github/pr31988/PyTorch-Fundamentals/blob/main/_PyTorch_WorkFlow_01.ipynb\" target=\"_parent\"><img src=\"https://colab.research.google.com/assets/colab-badge.svg\" alt=\"Open In Colab\"/></a>"
      ]
    },
    {
      "cell_type": "markdown",
      "source": [
        "#  Workflow covered:\n",
        "  1. data: (prepare & load)\n",
        "  2. Build a Model\n",
        "  3. Fitting model to data (training)\n",
        "  4. Making predictions & evaluating the model (Inference)\n",
        "  5. saving & loading the Model\n",
        "  6. Putting it all together"
      ],
      "metadata": {
        "id": "iP9kx88Qvqof"
      }
    },
    {
      "cell_type": "code",
      "source": [
        "import torch\n",
        "from torch import nn # nn contains all building blocks of pyTorch neural Networks\n",
        "import matplotlib.pyplot as plt\n",
        "\n",
        "# check torch version\n",
        "torch.__version__"
      ],
      "metadata": {
        "colab": {
          "base_uri": "https://localhost:8080/",
          "height": 36
        },
        "id": "FkaL3XW2xAYX",
        "outputId": "a67f954a-8944-49a0-f849-a16006f438a3"
      },
      "execution_count": 1,
      "outputs": [
        {
          "output_type": "execute_result",
          "data": {
            "text/plain": [
              "'2.5.1+cu121'"
            ],
            "application/vnd.google.colaboratory.intrinsic+json": {
              "type": "string"
            }
          },
          "metadata": {},
          "execution_count": 1
        }
      ]
    },
    {
      "cell_type": "markdown",
      "source": [
        "Machine Learning mainly Game of two parts:\n",
        "1. Turn Data into numbers\n",
        "2. build a model to learn patterns in those numbers\n",
        "\n",
        "# first example with **Linear regression** to train a model & draw pattern"
      ],
      "metadata": {
        "id": "l-ZVliseyHhe"
      }
    },
    {
      "cell_type": "code",
      "source": [
        "# y = a + b * X --> b is slope of line\n",
        "\n",
        "## create parameters\n",
        "weight = 0.7\n",
        "bias = 0.3\n",
        "\n",
        "start = 0\n",
        "end = 1\n",
        "step = 0.02\n",
        "\n",
        "X = torch.arange(start,end,step).unsqueeze(dim=1)\n",
        "y = weight * X + bias\n",
        "X[:10] , y[:10]"
      ],
      "metadata": {
        "colab": {
          "base_uri": "https://localhost:8080/"
        },
        "id": "-rqcClS10byF",
        "outputId": "695957bf-d9a8-4349-9769-b4a5709de8e8"
      },
      "execution_count": 2,
      "outputs": [
        {
          "output_type": "execute_result",
          "data": {
            "text/plain": [
              "(tensor([[0.0000],\n",
              "         [0.0200],\n",
              "         [0.0400],\n",
              "         [0.0600],\n",
              "         [0.0800],\n",
              "         [0.1000],\n",
              "         [0.1200],\n",
              "         [0.1400],\n",
              "         [0.1600],\n",
              "         [0.1800]]),\n",
              " tensor([[0.3000],\n",
              "         [0.3140],\n",
              "         [0.3280],\n",
              "         [0.3420],\n",
              "         [0.3560],\n",
              "         [0.3700],\n",
              "         [0.3840],\n",
              "         [0.3980],\n",
              "         [0.4120],\n",
              "         [0.4260]]))"
            ]
          },
          "metadata": {},
          "execution_count": 2
        }
      ]
    },
    {
      "cell_type": "code",
      "source": [
        "len(X), len(y)"
      ],
      "metadata": {
        "colab": {
          "base_uri": "https://localhost:8080/"
        },
        "id": "-85SBZl82YnG",
        "outputId": "771b0292-77ec-4160-ba7b-3fed6d4abd2b"
      },
      "execution_count": 3,
      "outputs": [
        {
          "output_type": "execute_result",
          "data": {
            "text/plain": [
              "(50, 50)"
            ]
          },
          "metadata": {},
          "execution_count": 3
        }
      ]
    },
    {
      "cell_type": "markdown",
      "source": [
        "Splitting data into Training & Test sets(one of the most important concept in machine learning)"
      ],
      "metadata": {
        "id": "FDc3kOMj4RQT"
      }
    },
    {
      "cell_type": "code",
      "source": [
        "# create train/test split\n",
        "train_split = int(0.8 * len(X))\n",
        "X_train, y_train = X[:train_split], y[:train_split]\n",
        "\n",
        "X_test, y_test = X[train_split:], y[train_split:]\n",
        "len(X_train), len(y_train), len(X_test), len(y_test)"
      ],
      "metadata": {
        "colab": {
          "base_uri": "https://localhost:8080/"
        },
        "id": "5R5F8frI4gyI",
        "outputId": "65272cdd-5906-40ab-cc68-55755da88aa3"
      },
      "execution_count": 4,
      "outputs": [
        {
          "output_type": "execute_result",
          "data": {
            "text/plain": [
              "(40, 40, 10, 10)"
            ]
          },
          "metadata": {},
          "execution_count": 4
        }
      ]
    },
    {
      "cell_type": "code",
      "source": [
        "def plot_prediction(train_data=X_train,\n",
        "                    train_labels=y_train,\n",
        "                    test_data=X_test,\n",
        "                    test_labels=y_test,\n",
        "                    predictions=None):\n",
        "  \"\"\"\n",
        "  plots training data, test data & compares prediction\n",
        "  \"\"\"\n",
        "\n",
        "  #plot training data in red\n",
        "  plt.scatter(train_data,train_labels, s=4, c=\"r\", label=\"Training data\")\n",
        "\n",
        "  #plot test data in green\n",
        "  plt.scatter(test_data, test_labels, s=4, c=\"g\", label=\"Test data\")\n",
        "\n",
        "  if predictions is not None:\n",
        "    # plot the predictions if any\n",
        "    plt.scatter(test_data, predictions, s=6, c=\"b\", label=\"predictions\")\n",
        "\n",
        "  # show the legend\n",
        "  plt.legend(prop={\"size\": 15})\n"
      ],
      "metadata": {
        "id": "psqlf-nHnMz-"
      },
      "execution_count": 5,
      "outputs": []
    },
    {
      "cell_type": "code",
      "source": [
        "plot_prediction();"
      ],
      "metadata": {
        "colab": {
          "base_uri": "https://localhost:8080/",
          "height": 430
        },
        "id": "2kpPVrmFpwL7",
        "outputId": "2c7e8973-12d7-4306-a290-4775ea318706"
      },
      "execution_count": 6,
      "outputs": [
        {
          "output_type": "display_data",
          "data": {
            "text/plain": [
              "<Figure size 640x480 with 1 Axes>"
            ],
            "image/png": "[encoded data removed]"
          },
          "metadata": {}
        }
      ]
    },
    {
      "cell_type": "markdown",
      "source": [
        "create a Model using training data, Model will determine weight & bias values\n",
        "\n",
        "what our Model does:\n",
        "1. start with random values (wight & bias)\n",
        "2. Look at training data and adjust these random values(or get closer to) ideal values (the actual weight & bias we used to create training & test data)\n",
        "\n",
        "to do so it uses 2 main algorithms:\n",
        "1. Gradient descent   - https://www.youtube.com/watch?v=IHZwWFHWa-w\n",
        "2. Backpropagation - https://www.youtube.com/watch?v=Ilg3gGewQ5U"
      ],
      "metadata": {
        "id": "qc3DDaR7Ec_M"
      }
    },
    {
      "cell_type": "code",
      "source": [
        "from torch import nn\n",
        "\n",
        "# create a linear Regression Model class\n",
        "class LinearRegressionModel(nn.Module):  # <-- almost everything in pyTorch is inheritted from nn.Module\n",
        "  def __init__(self):\n",
        "    super().__init__()\n",
        "    self.weights = nn.Parameter(torch.randn(1,      # --> start with a random weight and try to adjust it to ideal weight\n",
        "                                            requires_grad=True,\n",
        "                                            dtype=torch.float32))\n",
        "\n",
        "    self.bias = nn.Parameter(torch.randn(1,         # --> start with a random bias and try to adjust it to ideal bias\n",
        "                                        requires_grad=True,\n",
        "                                        dtype=torch.float32))\n",
        "\n",
        "  # forward method to define the computation in the module\n",
        "  def forward(self, x: torch.Tensor) -> torch.Tensor:   # <-- \"x\" is the input data\n",
        "      return self.weights * x + self.bias # linear regression formula"
      ],
      "metadata": {
        "id": "zVHoB3GmE9sB"
      },
      "execution_count": 7,
      "outputs": []
    },
    {
      "cell_type": "markdown",
      "source": [
        "  PyTorch essentials:\n",
        "  * torch.nn   -   provides all building blocks [its a tool set]\n",
        "  * torch.nn.Parameter - const values our Model should learn & predict\n",
        "  * torch.nn.Module  - base class\n",
        "  * torch.optim - optimize parameters to get actuals\n",
        "  * def forward - takes data from nn.Module and defines what happens in {forward} computation"
      ],
      "metadata": {
        "id": "njJRCPOz4-qR"
      }
    },
    {
      "cell_type": "code",
      "source": [
        "torch.manual_seed(42)\n",
        "\n",
        "model_0 = LinearRegressionModel()  # --> create a random instance of the class (this is subclass on nn.Module)\n",
        "\n",
        "list(model_0.parameters())"
      ],
      "metadata": {
        "colab": {
          "base_uri": "https://localhost:8080/"
        },
        "id": "etbVSKP2_Q8V",
        "outputId": "6906005f-fd66-483e-fb63-96d88c28ef3b"
      },
      "execution_count": 8,
      "outputs": [
        {
          "output_type": "execute_result",
          "data": {
            "text/plain": [
              "[Parameter containing:\n",
              " tensor([0.3367], requires_grad=True),\n",
              " Parameter containing:\n",
              " tensor([0.1288], requires_grad=True)]"
            ]
          },
          "metadata": {},
          "execution_count": 8
        }
      ]
    },
    {
      "cell_type": "code",
      "source": [
        "# list named parameters\n",
        "model_0.state_dict()"
      ],
      "metadata": {
        "colab": {
          "base_uri": "https://localhost:8080/"
        },
        "id": "kvbxsVyw_qpm",
        "outputId": "11aefded-ba01-476e-bedc-d38d710f799d"
      },
      "execution_count": 9,
      "outputs": [
        {
          "output_type": "execute_result",
          "data": {
            "text/plain": [
              "OrderedDict([('weights', tensor([0.3367])), ('bias', tensor([0.1288]))])"
            ]
          },
          "metadata": {},
          "execution_count": 9
        }
      ]
    },
    {
      "cell_type": "markdown",
      "source": [
        "# Making prediction with torch.inference_mode()\n",
        "to check our Models prediction power lets see how it predicts y_test based on x_test\n",
        "\n",
        " --> when we pass data to the Model its going to run it through forward method\n"
      ],
      "metadata": {
        "id": "BGX6YD_yBwWw"
      }
    },
    {
      "cell_type": "code",
      "source": [
        "# before using prediction power of our Model\n",
        "y_test"
      ],
      "metadata": {
        "colab": {
          "base_uri": "https://localhost:8080/"
        },
        "id": "qWuaDwrICyDU",
        "outputId": "6808db5c-09a0-482e-f6c6-0d221b9df657"
      },
      "execution_count": 10,
      "outputs": [
        {
          "output_type": "execute_result",
          "data": {
            "text/plain": [
              "tensor([[0.8600],\n",
              "        [0.8740],\n",
              "        [0.8880],\n",
              "        [0.9020],\n",
              "        [0.9160],\n",
              "        [0.9300],\n",
              "        [0.9440],\n",
              "        [0.9580],\n",
              "        [0.9720],\n",
              "        [0.9860]])"
            ]
          },
          "metadata": {},
          "execution_count": 10
        }
      ]
    },
    {
      "cell_type": "code",
      "source": [
        "# with inference method, model is solely predicting values and not training the model. It is not keeping track of the things but just deriving the infenrence\n",
        "# long story short ***Code runs faster***\n",
        "# the older version is torch.no_grad()\n",
        "\n",
        "with torch.inference_mode():\n",
        "# with torch.no_grad():\n",
        "  y_preds = model_0(X_test)\n",
        "y_preds"
      ],
      "metadata": {
        "colab": {
          "base_uri": "https://localhost:8080/"
        },
        "id": "98h5uwbbBtb9",
        "outputId": "c6682c19-a3f3-4d72-cd53-ac703753bad9"
      },
      "execution_count": 11,
      "outputs": [
        {
          "output_type": "execute_result",
          "data": {
            "text/plain": [
              "tensor([[0.3982],\n",
              "        [0.4049],\n",
              "        [0.4116],\n",
              "        [0.4184],\n",
              "        [0.4251],\n",
              "        [0.4318],\n",
              "        [0.4386],\n",
              "        [0.4453],\n",
              "        [0.4520],\n",
              "        [0.4588]])"
            ]
          },
          "metadata": {},
          "execution_count": 11
        }
      ]
    },
    {
      "cell_type": "code",
      "source": [
        "plot_prediction(predictions=y_preds)"
      ],
      "metadata": {
        "colab": {
          "base_uri": "https://localhost:8080/",
          "height": 430
        },
        "id": "N2QFR9fZESd3",
        "outputId": "465aa606-2a36-44de-acd5-dfb40cf16de5"
      },
      "execution_count": 12,
      "outputs": [
        {
          "output_type": "display_data",
          "data": {
            "text/plain": [
              "<Figure size 640x480 with 1 Axes>"
            ],
            "image/png": "[encoded data removed]"
          },
          "metadata": {}
        }
      ]
    },
    {
      "cell_type": "markdown",
      "source": [],
      "metadata": {
        "id": "Exih86M49uNC"
      }
    },
    {
      "cell_type": "markdown",
      "source": [
        "Train Model:\n",
        "\n",
        "The whole idea of training the model, is moving from poorly predicted parameter values towards ideal parameter values\n",
        "\n",
        "if we can meansure how poor the prediction is, it will be posible to adjust parameters to actual values\n",
        "\n",
        "One way is to use Loss Function\n",
        "\n",
        "Things we need to train:\n",
        "*  **Loss Function**: The function to measure how wrong the model predictions are compared to the ideal output\n",
        "*  **Optimizer** : Takes in account the loss of the model and adjust parameters to lower the loss.\n",
        "\n",
        "for PyTorch we need:\n",
        "*   **Training Loop**\n",
        "*   **Testing Loop**"
      ],
      "metadata": {
        "id": "f2exMWh06uor"
      }
    },
    {
      "cell_type": "code",
      "source": [
        "# loss function\n",
        "loss_fn = nn.L1Loss()\n",
        "\n",
        "# optimizer SGD (Scholistic Gradient Descent)\n",
        "optim_fn = torch.optim.SGD(params=model_0.parameters(),\n",
        "                           lr=0.01) # learning rate --> its a hyperparameter set manually, rate at which the loss"
      ],
      "metadata": {
        "id": "jzjYShAr-W3E"
      },
      "execution_count": 13,
      "outputs": []
    },
    {
      "cell_type": "markdown",
      "source": [
        "Building **training loop** (testing loop) in PyTorch :\n",
        "\n",
        "we need:\n",
        "\n",
        "0. Loop thorugh data\n",
        "1. Forward pass (involves data passing through our model's foraward () function) to make prediction on data - also called forward propagation\n",
        "2. calculate the loss (compare forward pass predictions to ground truth labels)\n",
        "3. Optimzer zero grad\n",
        "4. Loss backward - move backwards throght the network to calculate gradients for each of the parameters of our model with respect to the loss (**back propagation**)\n",
        "5. Optimizer step - use the optimizer to adjust the parameters to try and lower the loss (**Gradient Descent**)"
      ],
      "metadata": {
        "id": "bVme8cL_CHsi"
      }
    },
    {
      "cell_type": "code",
      "source": [
        "torch.manual_seed(42)\n",
        "\n",
        "epochs = 110  # its a hyper parameter\n",
        "\n",
        "### Training\n",
        "# 0. loop through data\n",
        "for epoch in range(epochs):\n",
        "\n",
        "# set the model to training mode\n",
        "  model_0.train()\n",
        "\n",
        "# 1. forward Pass\n",
        "  y_preds = model_0(X_train)\n",
        "\n",
        "#2. calculate the loss function\n",
        "  loss = loss_fn(y_preds, y_train)\n",
        "\n",
        "# 3. optimizer zero grad\n",
        "  optim_fn.zero_grad()\n",
        "\n",
        "# 4. perform backward propagation on the loss with respect to the parameters in the model (calculate gradients of each parameter)\n",
        "  loss.backward()\n",
        "\n",
        "#5. optimizer step (perform gradient descent)\n",
        "  optim_fn.step() # step the optimizer, to update the model's parameters with respect to the gradients calculated by step(4)\n",
        "#\n",
        "model_0.state_dict()"
      ],
      "metadata": {
        "colab": {
          "base_uri": "https://localhost:8080/"
        },
        "id": "rNBvnyKlF49i",
        "outputId": "3c0f9191-3c26-44f4-97eb-cc4c1e5299fe"
      },
      "execution_count": 30,
      "outputs": [
        {
          "output_type": "execute_result",
          "data": {
            "text/plain": [
              "OrderedDict([('weights', tensor([0.6951])), ('bias', tensor([0.2993]))])"
            ]
          },
          "metadata": {},
          "execution_count": 30
        }
      ]
    },
    {
      "cell_type": "code",
      "source": [
        "with torch.inference_mode():\n",
        "  y_preds_new = model_0(X_test)"
      ],
      "metadata": {
        "id": "z8xSi8pugKPr"
      },
      "execution_count": 31,
      "outputs": []
    },
    {
      "cell_type": "code",
      "source": [
        "plot_prediction(predictions=y_preds_new)"
      ],
      "metadata": {
        "colab": {
          "base_uri": "https://localhost:8080/",
          "height": 430
        },
        "id": "8-9ps_mggZir",
        "outputId": "81691d05-8cd1-4e89-be5d-211bd426a6af"
      },
      "execution_count": 33,
      "outputs": [
        {
          "output_type": "display_data",
          "data": {
            "text/plain": [
              "<Figure size 640x480 with 1 Axes>"
            ],
            "image/png": "[encoded data removed]"
          },
          "metadata": {}
        }
      ]
    }
  ]
}
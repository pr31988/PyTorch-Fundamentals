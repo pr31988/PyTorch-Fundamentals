{
  "nbformat": 4,
  "nbformat_minor": 0,
  "metadata": {
    "colab": {
      "provenance": [],
      "authorship_tag": "ABX9TyMCeXYUOhiY/idsMMObN11x",
      "include_colab_link": true
    },
    "kernelspec": {
      "name": "python3",
      "display_name": "Python 3"
    },
    "language_info": {
      "name": "python"
    }
  },
  "cells": [
    {
      "cell_type": "markdown",
      "metadata": {
        "id": "view-in-github",
        "colab_type": "text"
      },
      "source": [
        "<a href=\"https://colab.research.google.com/github/pr31988/PyTorch-Fundamentals/blob/main/_PyTorch_WorkFlow_01.ipynb\" target=\"_parent\"><img src=\"https://colab.research.google.com/assets/colab-badge.svg\" alt=\"Open In Colab\"/></a>"
      ]
    },
    {
      "cell_type": "markdown",
      "source": [
        "#  Workflow covered:\n",
        "  1. data: (prepare & load)\n",
        "  2. Build a Model\n",
        "  3. Fitting model to data (training)\n",
        "  4. Making predictions & evaluating the model (Inference)\n",
        "  5. saving & loading the Model\n",
        "  6. Putting it all together"
      ],
      "metadata": {
        "id": "iP9kx88Qvqof"
      }
    },
    {
      "cell_type": "code",
      "source": [
        "import torch\n",
        "from torch import nn # nn contains all building blocks of pyTorch neural Networks\n",
        "import matplotlib.pyplot as plt\n",
        "\n",
        "# check torch version\n",
        "torch.__version__"
      ],
      "metadata": {
        "colab": {
          "base_uri": "https://localhost:8080/",
          "height": 36
        },
        "id": "FkaL3XW2xAYX",
        "outputId": "5d321d6c-c581-4793-9788-a227d7f7256a"
      },
      "execution_count": 1,
      "outputs": [
        {
          "output_type": "execute_result",
          "data": {
            "text/plain": [
              "'2.5.1+cu121'"
            ],
            "application/vnd.google.colaboratory.intrinsic+json": {
              "type": "string"
            }
          },
          "metadata": {},
          "execution_count": 1
        }
      ]
    },
    {
      "cell_type": "markdown",
      "source": [
        "Machine Learning mainly Game of two parts:\n",
        "1. Turn Data into numbers\n",
        "2. build a model to learn patterns in those numbers\n",
        "\n",
        "# first example with **Linear regression** to train a model & draw pattern"
      ],
      "metadata": {
        "id": "l-ZVliseyHhe"
      }
    },
    {
      "cell_type": "code",
      "source": [
        "# y = a + b * X --> b is slope of line\n",
        "\n",
        "## create parameters\n",
        "weight = 0.7\n",
        "bias = 0.2\n",
        "\n",
        "start = 0\n",
        "end = 1\n",
        "step = 0.02\n",
        "\n",
        "X = torch.arange(start,end,step).unsqueeze(dim=1)\n",
        "y = weight * X + bias\n",
        "X[:10] , y[:10]"
      ],
      "metadata": {
        "colab": {
          "base_uri": "https://localhost:8080/"
        },
        "id": "-rqcClS10byF",
        "outputId": "d08c6bb5-2c70-495b-a6bc-4b743bacd35f"
      },
      "execution_count": 19,
      "outputs": [
        {
          "output_type": "execute_result",
          "data": {
            "text/plain": [
              "(tensor([[0.0000],\n",
              "         [0.0200],\n",
              "         [0.0400],\n",
              "         [0.0600],\n",
              "         [0.0800],\n",
              "         [0.1000],\n",
              "         [0.1200],\n",
              "         [0.1400],\n",
              "         [0.1600],\n",
              "         [0.1800]]),\n",
              " tensor([[0.2000],\n",
              "         [0.2140],\n",
              "         [0.2280],\n",
              "         [0.2420],\n",
              "         [0.2560],\n",
              "         [0.2700],\n",
              "         [0.2840],\n",
              "         [0.2980],\n",
              "         [0.3120],\n",
              "         [0.3260]]))"
            ]
          },
          "metadata": {},
          "execution_count": 19
        }
      ]
    },
    {
      "cell_type": "code",
      "source": [
        "len(X), len(y)"
      ],
      "metadata": {
        "colab": {
          "base_uri": "https://localhost:8080/"
        },
        "id": "-85SBZl82YnG",
        "outputId": "87e43a44-9896-498f-b40d-d58a93dbd4d8"
      },
      "execution_count": 20,
      "outputs": [
        {
          "output_type": "execute_result",
          "data": {
            "text/plain": [
              "(50, 50)"
            ]
          },
          "metadata": {},
          "execution_count": 20
        }
      ]
    },
    {
      "cell_type": "markdown",
      "source": [
        "Splitting data into Training & Test sets(one of the most important concept in machine learning)"
      ],
      "metadata": {
        "id": "FDc3kOMj4RQT"
      }
    },
    {
      "cell_type": "code",
      "source": [
        "# create train/test split\n",
        "train_split = int(0.8 * len(X))\n",
        "X_train, y_train = X[:train_split], y[:train_split]\n",
        "\n",
        "X_test, y_test = X[train_split:], y[train_split:]\n",
        "len(X_train), len(y_train), len(X_test), len(y_test)"
      ],
      "metadata": {
        "colab": {
          "base_uri": "https://localhost:8080/"
        },
        "id": "5R5F8frI4gyI",
        "outputId": "11ca3444-bea7-41c6-a8c4-3f973e942ecd"
      },
      "execution_count": 21,
      "outputs": [
        {
          "output_type": "execute_result",
          "data": {
            "text/plain": [
              "(40, 40, 10, 10)"
            ]
          },
          "metadata": {},
          "execution_count": 21
        }
      ]
    },
    {
      "cell_type": "code",
      "source": [
        "def plot_prediction(train_data=X_train,\n",
        "                    train_labels=y_train,\n",
        "                    test_data=X_test,\n",
        "                    test_labels=y_test,\n",
        "                    predictions=None):\n",
        "  \"\"\"\n",
        "  plots training data, test data & compares prediction\n",
        "  \"\"\"\n",
        "\n",
        "  #plot training data in red\n",
        "  plt.scatter(train_data,train_labels, s=4, c=\"r\", label=\"Training data\")\n",
        "\n",
        "  #plot test data in green\n",
        "  plt.scatter(test_data, test_labels, s=4, c=\"g\", label=\"Test data\")\n",
        "\n",
        "  if predictions is not None:\n",
        "    # plot the predictions if any\n",
        "    plt.scatter(test_data, predictions, c=\"b\", label=\"predictions\")\n",
        "\n",
        "  # show the legend\n",
        "  plt.legend(prop={\"size\": 15})\n"
      ],
      "metadata": {
        "id": "psqlf-nHnMz-"
      },
      "execution_count": 31,
      "outputs": []
    },
    {
      "cell_type": "code",
      "source": [
        "plot_prediction();"
      ],
      "metadata": {
        "colab": {
          "base_uri": "https://localhost:8080/",
          "height": 430
        },
        "id": "2kpPVrmFpwL7",
        "outputId": "e5c9aa24-4d3b-47dc-db42-50b9bb42ff20"
      },
      "execution_count": 23,
      "outputs": [
        {
          "output_type": "display_data",
          "data": {
            "text/plain": [
              "<Figure size 640x480 with 1 Axes>"
            ],
            "image/png": "[encoded data removed]"
          },
          "metadata": {}
        }
      ]
    },
    {
      "cell_type": "markdown",
      "source": [
        "create a Model using training data, Model will determine weight & bias values\n",
        "\n",
        "what our Model does:\n",
        "1. start with random values (wight & bias)\n",
        "2. Look at training data and adjust these random values(or get closer to) ideal values (the actual weight & bias we used to create training & test data)\n",
        "\n",
        "to do so it uses 2 main algorithms:\n",
        "1. Gradient descent   - https://www.youtube.com/watch?v=IHZwWFHWa-w\n",
        "2. Backpropagation - https://www.youtube.com/watch?v=Ilg3gGewQ5U"
      ],
      "metadata": {
        "id": "qc3DDaR7Ec_M"
      }
    },
    {
      "cell_type": "code",
      "source": [
        "from torch import nn\n",
        "\n",
        "# create a linear Regression Model class\n",
        "class LinearRegressionModel(nn.Module):  # <-- almost everything in pyTorch is inheritted from nn.Module\n",
        "  def __init__(self):\n",
        "    super().__init__()\n",
        "    self.weights = nn.Parameter(torch.randn(1,      # --> start with a random weight and try to adjust it to ideal weight\n",
        "                                            requires_grad=True,\n",
        "                                            dtype=torch.float32))\n",
        "\n",
        "    self.bias = nn.Parameter(torch.rand(1,         # --> start with a random bias and try to adjust it to ideal bias\n",
        "                                        requires_grad=True,\n",
        "                                        dtype=torch.float32))\n",
        "\n",
        "  # forward method to define the computation in the module\n",
        "  def forward(self, x: torch.Tensor) -> torch.Tensor:   # <-- \"x\" is the input data\n",
        "      return self.weights * x + self.bias # linear regression formula"
      ],
      "metadata": {
        "id": "zVHoB3GmE9sB"
      },
      "execution_count": 24,
      "outputs": []
    },
    {
      "cell_type": "markdown",
      "source": [
        "  PyTorch essentials:\n",
        "  * torch.nn   -   provides all building blocks [its a tool set]\n",
        "  * torch.nn.Parameter - const values our Model should learn & predict\n",
        "  * torch.nn.Module  - base class\n",
        "  * torch.optim - optimize parameters to get actuals\n",
        "  * def forward - takes data from nn.Module and defines what happens in {forward} computation"
      ],
      "metadata": {
        "id": "njJRCPOz4-qR"
      }
    },
    {
      "cell_type": "code",
      "source": [
        "torch.manual_seed(42)\n",
        "\n",
        "model_0 = LinearRegressionModel()  # --> create a random instance of the class (this is subclass on nn.Module)\n",
        "\n",
        "list(model_0.parameters())"
      ],
      "metadata": {
        "colab": {
          "base_uri": "https://localhost:8080/"
        },
        "id": "etbVSKP2_Q8V",
        "outputId": "66bca9e4-cd2a-4966-de16-400686c47a7a"
      },
      "execution_count": 25,
      "outputs": [
        {
          "output_type": "execute_result",
          "data": {
            "text/plain": [
              "[Parameter containing:\n",
              " tensor([0.3367], requires_grad=True),\n",
              " Parameter containing:\n",
              " tensor([0.3904], requires_grad=True)]"
            ]
          },
          "metadata": {},
          "execution_count": 25
        }
      ]
    },
    {
      "cell_type": "code",
      "source": [
        "# list named parameters\n",
        "model_0.state_dict()"
      ],
      "metadata": {
        "colab": {
          "base_uri": "https://localhost:8080/"
        },
        "id": "kvbxsVyw_qpm",
        "outputId": "85cf5412-bccc-4a20-d3cc-253406c6a4a5"
      },
      "execution_count": 26,
      "outputs": [
        {
          "output_type": "execute_result",
          "data": {
            "text/plain": [
              "OrderedDict([('weights', tensor([0.3367])), ('bias', tensor([0.3904]))])"
            ]
          },
          "metadata": {},
          "execution_count": 26
        }
      ]
    },
    {
      "cell_type": "markdown",
      "source": [
        "# Making prediction with torch.inference_mode()\n",
        "to check our Models prediction power lets see how it predicts y_test based on x_test\n",
        "\n",
        " --> when we pass data to the Model its going to run it through forward method\n"
      ],
      "metadata": {
        "id": "BGX6YD_yBwWw"
      }
    },
    {
      "cell_type": "code",
      "source": [
        "# before using prediction power of our Model\n",
        "y_test"
      ],
      "metadata": {
        "colab": {
          "base_uri": "https://localhost:8080/"
        },
        "id": "qWuaDwrICyDU",
        "outputId": "a36e7d7a-6441-4669-b8fc-64dfa2e0429f"
      },
      "execution_count": 27,
      "outputs": [
        {
          "output_type": "execute_result",
          "data": {
            "text/plain": [
              "tensor([[0.7600],\n",
              "        [0.7740],\n",
              "        [0.7880],\n",
              "        [0.8020],\n",
              "        [0.8160],\n",
              "        [0.8300],\n",
              "        [0.8440],\n",
              "        [0.8580],\n",
              "        [0.8720],\n",
              "        [0.8860]])"
            ]
          },
          "metadata": {},
          "execution_count": 27
        }
      ]
    },
    {
      "cell_type": "code",
      "source": [
        "# with inference method, model is solely predicting values and not training the model. It is not keeping track of the things but just deriving the infenrence\n",
        "# long story short ***Code runs faster***\n",
        "\n",
        "with torch.inference_mode():\n",
        "  y_preds = model_0(X_test)\n",
        "y_preds"
      ],
      "metadata": {
        "colab": {
          "base_uri": "https://localhost:8080/"
        },
        "id": "98h5uwbbBtb9",
        "outputId": "3384e17c-24e5-4b6c-bcaa-4038ee45604c"
      },
      "execution_count": 28,
      "outputs": [
        {
          "output_type": "execute_result",
          "data": {
            "text/plain": [
              "tensor([[0.6598],\n",
              "        [0.6665],\n",
              "        [0.6733],\n",
              "        [0.6800],\n",
              "        [0.6867],\n",
              "        [0.6935],\n",
              "        [0.7002],\n",
              "        [0.7069],\n",
              "        [0.7137],\n",
              "        [0.7204]])"
            ]
          },
          "metadata": {},
          "execution_count": 28
        }
      ]
    },
    {
      "cell_type": "code",
      "source": [
        "plot_prediction(predictions=y_preds)"
      ],
      "metadata": {
        "colab": {
          "base_uri": "https://localhost:8080/",
          "height": 430
        },
        "id": "N2QFR9fZESd3",
        "outputId": "f8533b44-23c4-482f-8552-f7f0be2803ff"
      },
      "execution_count": 32,
      "outputs": [
        {
          "output_type": "display_data",
          "data": {
            "text/plain": [
              "<Figure size 640x480 with 1 Axes>"
            ],
            "image/png": "[encoded data removed]"
          },
          "metadata": {}
        }
      ]
    }
  ]
}
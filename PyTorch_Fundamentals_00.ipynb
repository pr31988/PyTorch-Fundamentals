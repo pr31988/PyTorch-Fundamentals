{
  "nbformat": 4,
  "nbformat_minor": 0,
  "metadata": {
    "colab": {
      "provenance": [],
      "gpuType": "T4",
      "authorship_tag": "ABX9TyMIMIdbwS4DowvEwvrHU7zj",
      "include_colab_link": true
    },
    "kernelspec": {
      "name": "python3",
      "display_name": "Python 3"
    },
    "language_info": {
      "name": "python"
    },
    "accelerator": "GPU"
  },
  "cells": [
    {
      "cell_type": "markdown",
      "metadata": {
        "id": "view-in-github",
        "colab_type": "text"
      },
      "source": [
        "<a href=\"https://colab.research.google.com/github/pr31988/PyTorch-Fundamentals/blob/main/PyTorch_Fundamentals_00.ipynb\" target=\"_parent\"><img src=\"https://colab.research.google.com/assets/colab-badge.svg\" alt=\"Open In Colab\"/></a>"
      ]
    },
    {
      "cell_type": "code",
      "source": [
        "import torch\n",
        "vector = torch.tensor([1, 2, 3, 4])\n",
        "matrix = torch.tensor([[1, 2], [3, 4]])\n",
        "tensor_3d = torch.tensor([[[1, 2, 9, 10], [3, 4, 11, 12], [21, 22, 23, 24]], [[5, 6, 13, 14], [7, 8, 15, 16], [31, 32, 33, 34]], [[33, 44, 55, 66], [77, 88, 99, 22], [110, 230, 345, 445]]])\n",
        "print(vector)\n",
        "print(matrix)\n",
        "print(tensor_3d)\n",
        "print(vector.shape)\n",
        "print(matrix.shape)\n",
        "print(tensor_3d.shape)\n",
        "print(vector.ndim)\n",
        "print(matrix.ndim)\n",
        "print(tensor_3d.ndim)\n"
      ],
      "metadata": {
        "colab": {
          "base_uri": "https://localhost:8080/"
        },
        "id": "FqUa8EhSN68x",
        "outputId": "cc4340f7-f85a-43ae-8bd7-1264eacd7f59"
      },
      "execution_count": null,
      "outputs": [
        {
          "output_type": "stream",
          "name": "stdout",
          "text": [
            "tensor([1, 2, 3, 4])\n",
            "tensor([[1, 2],\n",
            "        [3, 4]])\n",
            "tensor([[[  1,   2,   9,  10],\n",
            "         [  3,   4,  11,  12],\n",
            "         [ 21,  22,  23,  24]],\n",
            "\n",
            "        [[  5,   6,  13,  14],\n",
            "         [  7,   8,  15,  16],\n",
            "         [ 31,  32,  33,  34]],\n",
            "\n",
            "        [[ 33,  44,  55,  66],\n",
            "         [ 77,  88,  99,  22],\n",
            "         [110, 230, 345, 445]]])\n",
            "torch.Size([4])\n",
            "torch.Size([2, 2])\n",
            "torch.Size([3, 3, 4])\n",
            "1\n",
            "2\n",
            "3\n"
          ]
        }
      ]
    },
    {
      "cell_type": "code",
      "source": [
        "tensor_2d = torch.tensor([[1, 11, 111, 1111], [2, 22, 222, 2222], [3, 33, 333, 3333]])\n",
        "print(tensor_2d)\n",
        "print(tensor_2d.shape)\n",
        "print(tensor_2d.ndim)"
      ],
      "metadata": {
        "colab": {
          "base_uri": "https://localhost:8080/"
        },
        "id": "KID6U3Z3RPST",
        "outputId": "fabc5740-49a1-4a8f-bc6c-95f3873b0911"
      },
      "execution_count": null,
      "outputs": [
        {
          "output_type": "stream",
          "name": "stdout",
          "text": [
            "tensor([[   1,   11,  111, 1111],\n",
            "        [   2,   22,  222, 2222],\n",
            "        [   3,   33,  333, 3333]])\n",
            "torch.Size([3, 4])\n",
            "2\n"
          ]
        }
      ]
    },
    {
      "cell_type": "code",
      "source": [
        "random_tensor = torch.rand(1, 3, 4)\n",
        "print(random_tensor)\n",
        "print(random_tensor.shape)\n",
        "print(random_tensor.ndim)"
      ],
      "metadata": {
        "colab": {
          "base_uri": "https://localhost:8080/"
        },
        "id": "VpOjJOxrULb2",
        "outputId": "f1822ea7-8fb5-4727-ac24-7abe3555071b"
      },
      "execution_count": null,
      "outputs": [
        {
          "output_type": "stream",
          "name": "stdout",
          "text": [
            "tensor([[[0.6658, 0.8918, 0.0371, 0.1324],\n",
            "         [0.0456, 0.1901, 0.4299, 0.8673],\n",
            "         [0.5915, 0.6786, 0.8269, 0.1786]]])\n",
            "torch.Size([1, 3, 4])\n",
            "3\n"
          ]
        }
      ]
    },
    {
      "cell_type": "code",
      "source": [
        "tensor_arange = torch.arange(start=10, end=100, step=10)\n",
        "print(tensor_arange)\n",
        "\n",
        "tensor_zeros = torch.zeros(size=(3, 5))\n",
        "print(tensor_zeros)\n",
        "\n",
        "tensor_ones = torch.ones(size=(3, 4))\n",
        "print(tensor_ones)\n",
        "\n",
        "torch_mult = torch.ones(size=(3, 4)) * 2\n",
        "print(torch_mult)\n",
        "\n",
        "torch_add = tensor_ones + torch_mult\n",
        "print(torch_add)"
      ],
      "metadata": {
        "colab": {
          "base_uri": "https://localhost:8080/"
        },
        "id": "cHdu2_efUu4b",
        "outputId": "18d5603b-5d2b-4318-ec96-8e9212aa8366"
      },
      "execution_count": null,
      "outputs": [
        {
          "output_type": "stream",
          "name": "stdout",
          "text": [
            "tensor([10, 20, 30, 40, 50, 60, 70, 80, 90])\n",
            "tensor([[0., 0., 0., 0., 0.],\n",
            "        [0., 0., 0., 0., 0.],\n",
            "        [0., 0., 0., 0., 0.]])\n",
            "tensor([[1., 1., 1., 1.],\n",
            "        [1., 1., 1., 1.],\n",
            "        [1., 1., 1., 1.]])\n",
            "tensor([[2., 2., 2., 2.],\n",
            "        [2., 2., 2., 2.],\n",
            "        [2., 2., 2., 2.]])\n",
            "tensor([[3., 3., 3., 3.],\n",
            "        [3., 3., 3., 3.],\n",
            "        [3., 3., 3., 3.]])\n"
          ]
        }
      ]
    },
    {
      "cell_type": "code",
      "source": [
        "%%time\n",
        "tensor_16bit = torch.tensor([[1, 2, 3], [4, 5, 6]], dtype=torch.float16)\n",
        "print(tensor_16bit)\n",
        "tensor_32bit = tensor_16bit.type(torch.float32)\n",
        "print(tensor_32bit)\n",
        "print(tensor_16bit * tensor_32bit)\n",
        "print(f\"device of tesnsor: {tensor_16bit.device}\")\n",
        "mult_tensor = torch.tensor([[1, 2, 3]])\n",
        "mult_tensor2 = torch.tensor([[1, 2, 3], [4, 5, 6], [7, 8, 9]])\n",
        "print(torch.matmul(mult_tensor, mult_tensor2))"
      ],
      "metadata": {
        "colab": {
          "base_uri": "https://localhost:8080/"
        },
        "id": "fmK0Ee6P_-Vp",
        "outputId": "d3699207-1908-4b41-f69a-ea0b64ccafff"
      },
      "execution_count": null,
      "outputs": [
        {
          "output_type": "stream",
          "name": "stdout",
          "text": [
            "tensor([[1., 2., 3.],\n",
            "        [4., 5., 6.]], dtype=torch.float16)\n",
            "tensor([[1., 2., 3.],\n",
            "        [4., 5., 6.]])\n",
            "tensor([[ 1.,  4.,  9.],\n",
            "        [16., 25., 36.]])\n",
            "device of tesnsor: cpu\n",
            "tensor([[30, 36, 42]])\n",
            "CPU times: user 11.4 ms, sys: 1.14 ms, total: 12.6 ms\n",
            "Wall time: 57.8 ms\n"
          ]
        }
      ]
    },
    {
      "cell_type": "code",
      "source": [
        "tensor_B = tensor_16bit.T\n",
        "print(tensor_B)\n",
        "print(tensor_B.shape)\n",
        "print(torch.mm(tensor_16bit, tensor_B))"
      ],
      "metadata": {
        "colab": {
          "base_uri": "https://localhost:8080/"
        },
        "id": "dFOcOZetIxXF",
        "outputId": "d8c237fc-0885-4024-d797-edde58718403"
      },
      "execution_count": null,
      "outputs": [
        {
          "output_type": "stream",
          "name": "stdout",
          "text": [
            "tensor([[1., 4.],\n",
            "        [2., 5.],\n",
            "        [3., 6.]], dtype=torch.float16)\n",
            "torch.Size([3, 2])\n",
            "tensor([[14., 32.],\n",
            "        [32., 77.]], dtype=torch.float16)\n"
          ]
        }
      ]
    },
    {
      "cell_type": "code",
      "source": [
        "# min, max, argmin(positional value), argmax (positional value), sum\n",
        "x = torch.arange(2,100,10)\n",
        "print(x)\n",
        "print(x.min())\n",
        "print(x.max())\n",
        "print(x.type(torch.float32).mean())\n",
        "print(x.type(torch.float32).max())\n",
        "print(torch.sum(x), x.sum())\n",
        "torch.argmax(x), torch.argmin(x)"
      ],
      "metadata": {
        "colab": {
          "base_uri": "https://localhost:8080/"
        },
        "id": "e6kbmaOpK6PX",
        "outputId": "6cc8daa9-acc5-4e60-fccd-19e9a5bb173a"
      },
      "execution_count": null,
      "outputs": [
        {
          "output_type": "stream",
          "name": "stdout",
          "text": [
            "tensor([ 2, 12, 22, 32, 42, 52, 62, 72, 82, 92])\n",
            "tensor(2)\n",
            "tensor(92)\n",
            "tensor(47.)\n",
            "tensor(92.)\n",
            "tensor(470) tensor(470)\n"
          ]
        },
        {
          "output_type": "execute_result",
          "data": {
            "text/plain": [
              "(tensor(9), tensor(0))"
            ]
          },
          "metadata": {},
          "execution_count": 20
        }
      ]
    },
    {
      "cell_type": "markdown",
      "source": [
        "# reshaping, squeezing, unsqueezing, stacking tensor --- tensor manipulation\n",
        "* reshaping : reshape input tensor to defined shape\n",
        "* view : return a view of input tensor after reshaping. view shares same memory of original input\n",
        "* squeezing : removing '1' dimention\n",
        "* unsqueezing : adding '1' dimention"
      ],
      "metadata": {
        "id": "2dllOzJ3PRKU"
      }
    },
    {
      "cell_type": "code",
      "source": [
        "tensor_m = torch.arange(0,120,10)\n",
        "print(tensor_m, tensor_m.shape)\n",
        "print(tensor_m.reshape(3,4))\n",
        "tensor_m.reshape(2,6)"
      ],
      "metadata": {
        "colab": {
          "base_uri": "https://localhost:8080/"
        },
        "id": "GGdvdEs3RIyC",
        "outputId": "052a6ed8-f7e0-4d90-c4cb-30922bf969f5"
      },
      "execution_count": null,
      "outputs": [
        {
          "output_type": "stream",
          "name": "stdout",
          "text": [
            "tensor([  0,  10,  20,  30,  40,  50,  60,  70,  80,  90, 100, 110]) torch.Size([12])\n",
            "tensor([[  0,  10,  20,  30],\n",
            "        [ 40,  50,  60,  70],\n",
            "        [ 80,  90, 100, 110]])\n"
          ]
        },
        {
          "output_type": "execute_result",
          "data": {
            "text/plain": [
              "tensor([[  0,  10,  20,  30,  40,  50],\n",
              "        [ 60,  70,  80,  90, 100, 110]])"
            ]
          },
          "metadata": {},
          "execution_count": 35
        }
      ]
    },
    {
      "cell_type": "code",
      "source": [
        "import torch\n",
        "tensor_z = torch.arange(1,10)\n",
        "print('tensor_z before view:', tensor_z, tensor_z.shape)\n",
        "tensor_x = tensor_z.view(3,3)\n",
        "print('tensor_z after view:',tensor_z, tensor_z.shape)\n",
        "tensor_x, tensor_x.shape"
      ],
      "metadata": {
        "colab": {
          "base_uri": "https://localhost:8080/"
        },
        "id": "-RQD-RIuV8JA",
        "outputId": "7982f321-71ed-4c4b-ccdd-d951c6c9de85"
      },
      "execution_count": null,
      "outputs": [
        {
          "output_type": "stream",
          "name": "stdout",
          "text": [
            "tensor_z before view: tensor([1, 2, 3, 4, 5, 6, 7, 8, 9]) torch.Size([9])\n",
            "tensor_z after view: tensor([1, 2, 3, 4, 5, 6, 7, 8, 9]) torch.Size([9])\n"
          ]
        },
        {
          "output_type": "execute_result",
          "data": {
            "text/plain": [
              "(tensor([[1, 2, 3],\n",
              "         [4, 5, 6],\n",
              "         [7, 8, 9]]),\n",
              " torch.Size([3, 3]))"
            ]
          },
          "metadata": {},
          "execution_count": 1
        }
      ]
    },
    {
      "cell_type": "code",
      "source": [
        "tensor_x[:, 0] = 15\n",
        "tensor_z, tensor_x"
      ],
      "metadata": {
        "colab": {
          "base_uri": "https://localhost:8080/"
        },
        "id": "FMOQkwVimB8k",
        "outputId": "989e596e-e6b9-4ddb-d69e-a49dc26a482d"
      },
      "execution_count": null,
      "outputs": [
        {
          "output_type": "execute_result",
          "data": {
            "text/plain": [
              "(tensor([15,  2,  3, 15,  5,  6, 15,  8,  9]),\n",
              " tensor([[15,  2,  3],\n",
              "         [15,  5,  6],\n",
              "         [15,  8,  9]]))"
            ]
          },
          "metadata": {},
          "execution_count": 2
        }
      ]
    },
    {
      "cell_type": "code",
      "source": [
        "torch.stack([tensor_x, tensor_x, tensor_x],dim=0)"
      ],
      "metadata": {
        "colab": {
          "base_uri": "https://localhost:8080/"
        },
        "id": "XCT4CKlUo-uP",
        "outputId": "6a818736-df00-4e22-f26e-5f6b569bd9ba"
      },
      "execution_count": null,
      "outputs": [
        {
          "output_type": "execute_result",
          "data": {
            "text/plain": [
              "tensor([[[15,  2,  3],\n",
              "         [15,  5,  6],\n",
              "         [15,  8,  9]],\n",
              "\n",
              "        [[15,  2,  3],\n",
              "         [15,  5,  6],\n",
              "         [15,  8,  9]],\n",
              "\n",
              "        [[15,  2,  3],\n",
              "         [15,  5,  6],\n",
              "         [15,  8,  9]]])"
            ]
          },
          "metadata": {},
          "execution_count": 3
        }
      ]
    },
    {
      "cell_type": "code",
      "source": [
        "x = torch.zeros(2, 1, 2, 1, 2)\n",
        "print(x)\n",
        "y = torch.squeeze(x)\n",
        "print(y)\n",
        "y.size()\n",
        "z = torch.unsqueeze(y, 1)\n",
        "print(f\"unsqueesed tensor: {z}\")\n",
        "z.size()"
      ],
      "metadata": {
        "colab": {
          "base_uri": "https://localhost:8080/"
        },
        "id": "wBp-cBBwsZrF",
        "outputId": "34b94e35-d5b1-4285-af2d-2a8f05b71412"
      },
      "execution_count": null,
      "outputs": [
        {
          "output_type": "stream",
          "name": "stdout",
          "text": [
            "tensor([[[[[0., 0.]],\n",
            "\n",
            "          [[0., 0.]]]],\n",
            "\n",
            "\n",
            "\n",
            "        [[[[0., 0.]],\n",
            "\n",
            "          [[0., 0.]]]]])\n",
            "tensor([[[0., 0.],\n",
            "         [0., 0.]],\n",
            "\n",
            "        [[0., 0.],\n",
            "         [0., 0.]]])\n",
            "unsqueesed tensor: tensor([[[[0., 0.],\n",
            "          [0., 0.]]],\n",
            "\n",
            "\n",
            "        [[[0., 0.],\n",
            "          [0., 0.]]]])\n"
          ]
        },
        {
          "output_type": "execute_result",
          "data": {
            "text/plain": [
              "torch.Size([2, 1, 2, 2])"
            ]
          },
          "metadata": {},
          "execution_count": 4
        }
      ]
    },
    {
      "cell_type": "code",
      "source": [
        "x_original = torch.rand(size=(224, 224, 3))\n",
        "x_permuted = x_original.permute(2, 0, 1)  #shares same memory as x_original\n",
        "print(f\"Original shape: {x_original.shape}\")\n",
        "print(f\"Permuted shape: {x_permuted.shape}\")"
      ],
      "metadata": {
        "colab": {
          "base_uri": "https://localhost:8080/"
        },
        "id": "oAMwgiisy1XX",
        "outputId": "0344d821-6dba-4434-d34c-8f4e82b1a7f3"
      },
      "execution_count": null,
      "outputs": [
        {
          "output_type": "stream",
          "name": "stdout",
          "text": [
            "Original shape: torch.Size([224, 224, 3])\n",
            "Permuted shape: torch.Size([3, 224, 224])\n"
          ]
        }
      ]
    },
    {
      "cell_type": "code",
      "source": [
        "x_original [0,0,0] = 1234\n",
        "x_original[0,0,0], x_permuted[0,0,0]"
      ],
      "metadata": {
        "colab": {
          "base_uri": "https://localhost:8080/"
        },
        "id": "M1PNf9hC9Vm8",
        "outputId": "4b20eb44-4cda-416f-e477-b2ddf707b339"
      },
      "execution_count": null,
      "outputs": [
        {
          "output_type": "execute_result",
          "data": {
            "text/plain": [
              "(tensor(1234.), tensor(1234.))"
            ]
          },
          "metadata": {},
          "execution_count": 7
        }
      ]
    },
    {
      "cell_type": "code",
      "source": [
        "x = torch.arange(1, 13).reshape(2, 3,2)\n",
        "x, x.shape"
      ],
      "metadata": {
        "colab": {
          "base_uri": "https://localhost:8080/"
        },
        "id": "4tIoYVhN9ktn",
        "outputId": "d6de6ebf-32e0-49d8-f4f8-1b664fe9d867"
      },
      "execution_count": null,
      "outputs": [
        {
          "output_type": "execute_result",
          "data": {
            "text/plain": [
              "(tensor([[[ 1,  2],\n",
              "          [ 3,  4],\n",
              "          [ 5,  6]],\n",
              " \n",
              "         [[ 7,  8],\n",
              "          [ 9, 10],\n",
              "          [11, 12]]]),\n",
              " torch.Size([2, 3, 2]))"
            ]
          },
          "metadata": {},
          "execution_count": 20
        }
      ]
    },
    {
      "cell_type": "code",
      "source": [
        "x[1][0][1], x[:][0]"
      ],
      "metadata": {
        "colab": {
          "base_uri": "https://localhost:8080/"
        },
        "id": "yGxzD1rTC89-",
        "outputId": "426dd240-0fc4-4c79-edb3-3ccd81f1de7c"
      },
      "execution_count": null,
      "outputs": [
        {
          "output_type": "execute_result",
          "data": {
            "text/plain": [
              "(tensor(8),\n",
              " tensor([[1, 2],\n",
              "         [3, 4],\n",
              "         [5, 6]]))"
            ]
          },
          "metadata": {},
          "execution_count": 27
        }
      ]
    },
    {
      "cell_type": "code",
      "source": [
        "x[0][:,0], x[1, 1, 0], x [1, :,1]"
      ],
      "metadata": {
        "colab": {
          "base_uri": "https://localhost:8080/"
        },
        "id": "_oBCUE3hEREe",
        "outputId": "1a35027a-751f-4928-a237-45786ea4b569"
      },
      "execution_count": null,
      "outputs": [
        {
          "output_type": "execute_result",
          "data": {
            "text/plain": [
              "(tensor([1, 3, 5]), tensor(9), tensor([ 8, 10, 12]))"
            ]
          },
          "metadata": {},
          "execution_count": 48
        }
      ]
    },
    {
      "cell_type": "code",
      "source": [
        "# numPy array to tensor. default datatype for numPy: float64, default datatype for pyTorch: float32\n",
        "import torch\n",
        "import numpy as np\n",
        "array = np.arange(1.0, 8.0)\n",
        "tensor = torch.from_numpy(array)\n",
        "array, tensor"
      ],
      "metadata": {
        "colab": {
          "base_uri": "https://localhost:8080/"
        },
        "id": "nRSuL-z-K6hf",
        "outputId": "a07bf7eb-a43b-4590-fee9-06dfe1234555"
      },
      "execution_count": null,
      "outputs": [
        {
          "output_type": "execute_result",
          "data": {
            "text/plain": [
              "(array([1., 2., 3., 4., 5., 6., 7.]),\n",
              " tensor([1., 2., 3., 4., 5., 6., 7.], dtype=torch.float64))"
            ]
          },
          "metadata": {},
          "execution_count": 50
        }
      ]
    },
    {
      "cell_type": "code",
      "source": [
        "tensor = torch.ones(7)\n",
        "numpy_tensor = tensor.numpy()\n",
        "tensor, numpy_tensor"
      ],
      "metadata": {
        "colab": {
          "base_uri": "https://localhost:8080/"
        },
        "id": "7i_05gsrMAs4",
        "outputId": "911f26f2-3879-419b-c236-6532e4688f88"
      },
      "execution_count": null,
      "outputs": [
        {
          "output_type": "execute_result",
          "data": {
            "text/plain": [
              "(tensor([1., 1., 1., 1., 1., 1., 1.]),\n",
              " array([1., 1., 1., 1., 1., 1., 1.], dtype=float32))"
            ]
          },
          "metadata": {},
          "execution_count": 51
        }
      ]
    },
    {
      "cell_type": "code",
      "source": [
        "import torch\n",
        "torch.manual_seed(0)\n",
        "torch_tensor_A = torch.rand(3, 4)\n",
        "torch.manual_seed(0)\n",
        "torch_tensor_B = torch.rand(3, 4)\n",
        "print(torch_tensor_A)\n",
        "print(torch_tensor_B)"
      ],
      "metadata": {
        "colab": {
          "base_uri": "https://localhost:8080/"
        },
        "id": "beXyA9mjleCY",
        "outputId": "9e9ebf43-e480-4f58-8c14-1088e6418222"
      },
      "execution_count": null,
      "outputs": [
        {
          "output_type": "stream",
          "name": "stdout",
          "text": [
            "tensor([[0.4963, 0.7682, 0.0885, 0.1320],\n",
            "        [0.3074, 0.6341, 0.4901, 0.8964],\n",
            "        [0.4556, 0.6323, 0.3489, 0.4017]])\n",
            "tensor([[0.4963, 0.7682, 0.0885, 0.1320],\n",
            "        [0.3074, 0.6341, 0.4901, 0.8964],\n",
            "        [0.4556, 0.6323, 0.3489, 0.4017]])\n"
          ]
        }
      ]
    },
    {
      "cell_type": "code",
      "source": [
        "!nvidia-smi"
      ],
      "metadata": {
        "colab": {
          "base_uri": "https://localhost:8080/"
        },
        "id": "PPuCpUxdntE1",
        "outputId": "9583672e-bd7a-4973-8e35-73c97e817177"
      },
      "execution_count": null,
      "outputs": [
        {
          "output_type": "stream",
          "name": "stdout",
          "text": [
            "Thu Nov 21 12:08:27 2024       \n",
            "+---------------------------------------------------------------------------------------+\n",
            "| NVIDIA-SMI 535.104.05             Driver Version: 535.104.05   CUDA Version: 12.2     |\n",
            "|-----------------------------------------+----------------------+----------------------+\n",
            "| GPU  Name                 Persistence-M | Bus-Id        Disp.A | Volatile Uncorr. ECC |\n",
            "| Fan  Temp   Perf          Pwr:Usage/Cap |         Memory-Usage | GPU-Util  Compute M. |\n",
            "|                                         |                      |               MIG M. |\n",
            "|=========================================+======================+======================|\n",
            "|   0  Tesla T4                       Off | 00000000:00:04.0 Off |                    0 |\n",
            "| N/A   33C    P8               9W /  70W |      0MiB / 15360MiB |      0%      Default |\n",
            "|                                         |                      |                  N/A |\n",
            "+-----------------------------------------+----------------------+----------------------+\n",
            "                                                                                         \n",
            "+---------------------------------------------------------------------------------------+\n",
            "| Processes:                                                                            |\n",
            "|  GPU   GI   CI        PID   Type   Process name                            GPU Memory |\n",
            "|        ID   ID                                                             Usage      |\n",
            "|=======================================================================================|\n",
            "|  No running processes found                                                           |\n",
            "+---------------------------------------------------------------------------------------+\n"
          ]
        }
      ]
    },
    {
      "cell_type": "code",
      "source": [
        "import torch\n",
        "torch.cuda.is_available()"
      ],
      "metadata": {
        "colab": {
          "base_uri": "https://localhost:8080/"
        },
        "id": "BxRB7psVoiwT",
        "outputId": "36142cc7-2696-441f-9dce-779def24f6ca"
      },
      "execution_count": null,
      "outputs": [
        {
          "output_type": "execute_result",
          "data": {
            "text/plain": [
              "True"
            ]
          },
          "metadata": {},
          "execution_count": 1
        }
      ]
    },
    {
      "cell_type": "code",
      "source": [
        "# set the device to use cuda --> device agnostic code\n",
        "device = 'cuda' if torch.cuda.is_available() else 'cpu'\n",
        "print(f'device:' , device)\n",
        "torch.cuda.device_count()"
      ],
      "metadata": {
        "colab": {
          "base_uri": "https://localhost:8080/"
        },
        "id": "fXY1XHR2o6ou",
        "outputId": "157a67d4-157b-4957-e3ae-98e022a17cf0"
      },
      "execution_count": null,
      "outputs": [
        {
          "output_type": "stream",
          "name": "stdout",
          "text": [
            "device: cuda\n"
          ]
        },
        {
          "output_type": "execute_result",
          "data": {
            "text/plain": [
              "1"
            ]
          },
          "metadata": {},
          "execution_count": 3
        }
      ]
    },
    {
      "cell_type": "code",
      "source": [
        "tensor = torch.tensor([1, 2, 3])\n",
        "print(tensor, tensor.device)\n",
        "tensor_on_gpu = tensor.to(device) # move tensor to gpu\n",
        "tensor_on_gpu"
      ],
      "metadata": {
        "colab": {
          "base_uri": "https://localhost:8080/"
        },
        "id": "Mq_8M8X_caqq",
        "outputId": "4137133c-df86-477b-c20a-9824ba77d7a0"
      },
      "execution_count": null,
      "outputs": [
        {
          "output_type": "stream",
          "name": "stdout",
          "text": [
            "tensor([1, 2, 3]) cpu\n"
          ]
        },
        {
          "output_type": "execute_result",
          "data": {
            "text/plain": [
              "tensor([1, 2, 3], device='cuda:0')"
            ]
          },
          "metadata": {},
          "execution_count": 5
        }
      ]
    },
    {
      "cell_type": "code",
      "source": [
        "tensor_back_on_cpu = tensor_on_gpu.cpu().numpy() # to make tensor work with numPy() move it back to cpu\n",
        "tensor_back_on_cpu, tensor_back_on_cpu.dtype"
      ],
      "metadata": {
        "colab": {
          "base_uri": "https://localhost:8080/"
        },
        "id": "iuRbHOfCc9jF",
        "outputId": "e8315428-d721-4006-bfd6-6d99f6c54443"
      },
      "execution_count": null,
      "outputs": [
        {
          "output_type": "execute_result",
          "data": {
            "text/plain": [
              "(array([1, 2, 3]), dtype('int64'))"
            ]
          },
          "metadata": {},
          "execution_count": 9
        }
      ]
    },
    {
      "cell_type": "markdown",
      "source": [
        "## Exercise"
      ],
      "metadata": {
        "id": "Zzs1ZpYJgSOa"
      }
    },
    {
      "cell_type": "code",
      "source": [
        "tensor_r = torch.rand(7, 7)\n",
        "print(tensor_r)"
      ],
      "metadata": {
        "colab": {
          "base_uri": "https://localhost:8080/"
        },
        "id": "qmuVd-eHgYLN",
        "outputId": "598aac79-debf-4b26-9c4d-71a9fb2b9dc2"
      },
      "execution_count": null,
      "outputs": [
        {
          "output_type": "stream",
          "name": "stdout",
          "text": [
            "tensor([[0.1127, 0.2858, 0.5574, 0.1532, 0.0089, 0.9727, 0.0901],\n",
            "        [0.5818, 0.1922, 0.9449, 0.1056, 0.0454, 0.1010, 0.8972],\n",
            "        [0.1263, 0.2523, 0.5602, 0.4536, 0.7598, 0.4564, 0.9742],\n",
            "        [0.3615, 0.6249, 0.0838, 0.5999, 0.3883, 0.6762, 0.2671],\n",
            "        [0.8114, 0.4410, 0.4355, 0.7109, 0.6530, 0.7796, 0.8178],\n",
            "        [0.6309, 0.3842, 0.1739, 0.1758, 0.1401, 0.3908, 0.9653],\n",
            "        [0.9041, 0.7723, 0.7890, 0.9554, 0.4080, 0.4032, 0.5521]])\n"
          ]
        }
      ]
    },
    {
      "cell_type": "code",
      "source": [
        "import torch\n",
        "tensor_t = torch.rand(1, 7)\n",
        "print(tensor_t)"
      ],
      "metadata": {
        "colab": {
          "base_uri": "https://localhost:8080/"
        },
        "id": "au2Pncz3gzH4",
        "outputId": "298a1dfd-df10-4b6f-a329-af8c6988be8b"
      },
      "execution_count": null,
      "outputs": [
        {
          "output_type": "stream",
          "name": "stdout",
          "text": [
            "tensor([[0.1797, 0.1855, 0.2051, 0.8906, 0.4805, 0.7098, 0.1323]])\n"
          ]
        }
      ]
    },
    {
      "cell_type": "code",
      "source": [
        "tensor_p = torch.matmul(tensor_r, tensor_t.T)\n",
        "print(tensor_p)"
      ],
      "metadata": {
        "colab": {
          "base_uri": "https://localhost:8080/"
        },
        "id": "iGjU0r-vhG4u",
        "outputId": "cd3b04e2-d623-41e4-af14-ee3466e2e981"
      },
      "execution_count": null,
      "outputs": [
        {
          "output_type": "stream",
          "name": "stdout",
          "text": [
            "tensor([[1.0307],\n",
            "        [0.6403],\n",
            "        [1.4063],\n",
            "        [1.4342],\n",
            "        [1.9253],\n",
            "        [0.8492],\n",
            "        [1.8738]])\n"
          ]
        }
      ]
    },
    {
      "cell_type": "code",
      "source": [
        "torch.manual_seed(0)\n",
        "torch_r = torch.rand([7,7])\n",
        "torch.manual_seed(0)\n",
        "torch_t = torch.rand([7,1])\n",
        "print(torch_r, torch_t)\n",
        "torch_p = torch.matmul(torch_r, torch_t)\n",
        "torch_p"
      ],
      "metadata": {
        "colab": {
          "base_uri": "https://localhost:8080/"
        },
        "id": "6L0Cyjbmhr8s",
        "outputId": "0c2423b2-260e-482c-df37-937ebba44117"
      },
      "execution_count": null,
      "outputs": [
        {
          "output_type": "stream",
          "name": "stdout",
          "text": [
            "tensor([[0.4963, 0.7682, 0.0885, 0.1320, 0.3074, 0.6341, 0.4901],\n",
            "        [0.8964, 0.4556, 0.6323, 0.3489, 0.4017, 0.0223, 0.1689],\n",
            "        [0.2939, 0.5185, 0.6977, 0.8000, 0.1610, 0.2823, 0.6816],\n",
            "        [0.9152, 0.3971, 0.8742, 0.4194, 0.5529, 0.9527, 0.0362],\n",
            "        [0.1852, 0.3734, 0.3051, 0.9320, 0.1759, 0.2698, 0.1507],\n",
            "        [0.0317, 0.2081, 0.9298, 0.7231, 0.7423, 0.5263, 0.2437],\n",
            "        [0.5846, 0.0332, 0.1387, 0.2422, 0.8155, 0.7932, 0.2783]]) tensor([[0.4963],\n",
            "        [0.7682],\n",
            "        [0.0885],\n",
            "        [0.1320],\n",
            "        [0.3074],\n",
            "        [0.6341],\n",
            "        [0.4901]])\n"
          ]
        },
        {
          "output_type": "execute_result",
          "data": {
            "text/plain": [
              "tensor([[1.5985],\n",
              "        [1.1173],\n",
              "        [1.2741],\n",
              "        [1.6838],\n",
              "        [0.8279],\n",
              "        [1.0347],\n",
              "        [1.2498]])"
            ]
          },
          "metadata": {},
          "execution_count": 7
        }
      ]
    },
    {
      "cell_type": "code",
      "source": [
        "import torch\n",
        "torch.manual_seed(1234)\n",
        "tensor_gpu_A = torch.rand([1,4])\n",
        "print(tensor_gpu_A, tensor_gpu_A.device)\n",
        "device = 'cuda' if torch.cuda.is_available() else 'cpu'\n",
        "tensor_gpu_p = tensor_gpu_A.to(device)\n",
        "tensor_gpu_p"
      ],
      "metadata": {
        "colab": {
          "base_uri": "https://localhost:8080/"
        },
        "id": "GT0r8lBwjQeg",
        "outputId": "b43f61f4-3abb-407c-8c2d-d925c82758bd"
      },
      "execution_count": 1,
      "outputs": [
        {
          "output_type": "stream",
          "name": "stdout",
          "text": [
            "tensor([[0.0290, 0.4019, 0.2598, 0.3666]]) cpu\n"
          ]
        },
        {
          "output_type": "execute_result",
          "data": {
            "text/plain": [
              "tensor([[0.0290, 0.4019, 0.2598, 0.3666]], device='cuda:0')"
            ]
          },
          "metadata": {},
          "execution_count": 1
        }
      ]
    },
    {
      "cell_type": "code",
      "source": [
        "torch.manual_seed(1234)\n",
        "tensor_sendTo_gpu_A = torch.rand([2,3])\n",
        "\n",
        "torch.manual_seed(1234)\n",
        "tensor_sendTo_gpu_B = torch.rand([2,3])\n",
        "print(tensor_sendTo_gpu_A, tensor_sendTo_gpu_B)\n",
        "\n",
        "tensor_send_gpu_A = tensor_sendTo_gpu_A.to(device)\n",
        "tensor_send_gpu_B = tensor_sendTo_gpu_B.to(device)\n",
        "tensor_send_gpu_A, tensor_send_gpu_B"
      ],
      "metadata": {
        "colab": {
          "base_uri": "https://localhost:8080/"
        },
        "id": "vqKeH79no0IA",
        "outputId": "9e8121e1-a217-4bc3-dafa-4f54cff7bf3d"
      },
      "execution_count": 2,
      "outputs": [
        {
          "output_type": "stream",
          "name": "stdout",
          "text": [
            "tensor([[0.0290, 0.4019, 0.2598],\n",
            "        [0.3666, 0.0583, 0.7006]]) tensor([[0.0290, 0.4019, 0.2598],\n",
            "        [0.3666, 0.0583, 0.7006]])\n"
          ]
        },
        {
          "output_type": "execute_result",
          "data": {
            "text/plain": [
              "(tensor([[0.0290, 0.4019, 0.2598],\n",
              "         [0.3666, 0.0583, 0.7006]], device='cuda:0'),\n",
              " tensor([[0.0290, 0.4019, 0.2598],\n",
              "         [0.3666, 0.0583, 0.7006]], device='cuda:0'))"
            ]
          },
          "metadata": {},
          "execution_count": 2
        }
      ]
    },
    {
      "cell_type": "code",
      "source": [
        "tensor_c = torch.matmul(tensor_send_gpu_A, tensor_send_gpu_B.T)\n",
        "tensor_c"
      ],
      "metadata": {
        "colab": {
          "base_uri": "https://localhost:8080/"
        },
        "id": "Qau4Qm9LSZzf",
        "outputId": "d00f0ab5-913f-4bf6-b158-0a475874ad6f"
      },
      "execution_count": 5,
      "outputs": [
        {
          "output_type": "execute_result",
          "data": {
            "text/plain": [
              "tensor([[0.2299, 0.2161],\n",
              "        [0.2161, 0.6287]], device='cuda:0')"
            ]
          },
          "metadata": {},
          "execution_count": 5
        }
      ]
    },
    {
      "cell_type": "code",
      "source": [
        "print (tensor_c.min(), tensor_c.max())\n",
        "torch.argmin(tensor_c), torch.argmax(tensor_c)"
      ],
      "metadata": {
        "colab": {
          "base_uri": "https://localhost:8080/"
        },
        "id": "wt4IYb20S237",
        "outputId": "f9a32aa8-0329-4930-a10a-c4d66f6f0e1d"
      },
      "execution_count": 8,
      "outputs": [
        {
          "output_type": "stream",
          "name": "stdout",
          "text": [
            "tensor(0.2161, device='cuda:0') tensor(0.6287, device='cuda:0')\n"
          ]
        },
        {
          "output_type": "execute_result",
          "data": {
            "text/plain": [
              "(tensor(1, device='cuda:0'), tensor(3, device='cuda:0'))"
            ]
          },
          "metadata": {},
          "execution_count": 8
        }
      ]
    },
    {
      "cell_type": "code",
      "source": [
        "torch.manual_seed(7)\n",
        "tensor_ab = torch.rand([1,1,1,10])\n",
        "tensor_cd = torch.squeeze(tensor_ab)\n",
        "tensor_ab, tensor_ab.shape, tensor_cd, tensor_cd.shape"
      ],
      "metadata": {
        "colab": {
          "base_uri": "https://localhost:8080/"
        },
        "id": "bmgfz7ztUD4j",
        "outputId": "8936c974-143f-4616-8b80-ea1e8de2efe7"
      },
      "execution_count": 16,
      "outputs": [
        {
          "output_type": "execute_result",
          "data": {
            "text/plain": [
              "(tensor([[[[0.5349, 0.1988, 0.6592, 0.6569, 0.2328, 0.4251, 0.2071, 0.6297,\n",
              "            0.3653, 0.8513]]]]),\n",
              " torch.Size([1, 1, 1, 10]),\n",
              " tensor([0.5349, 0.1988, 0.6592, 0.6569, 0.2328, 0.4251, 0.2071, 0.6297, 0.3653,\n",
              "         0.8513]),\n",
              " torch.Size([10]))"
            ]
          },
          "metadata": {},
          "execution_count": 16
        }
      ]
    }
  ]
}